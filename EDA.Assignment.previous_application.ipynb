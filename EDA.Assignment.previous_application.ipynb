{
 "cells": [
  {
   "cell_type": "code",
   "execution_count": 1,
   "id": "af9cc43a",
   "metadata": {},
   "outputs": [],
   "source": [
    "import numpy as np\n",
    "import pandas as pd\n",
    "import seaborn as sns\n",
    "import matplotlib.pyplot as plt\n",
    "import warnings\n",
    "warnings.filterwarnings('ignore')\n",
    "%matplotlib inline"
   ]
  },
  {
   "cell_type": "code",
   "execution_count": 2,
   "id": "0ee814f3",
   "metadata": {},
   "outputs": [],
   "source": [
    "## importing the data set"
   ]
  },
  {
   "cell_type": "code",
   "execution_count": 2,
   "id": "7e7524b1",
   "metadata": {},
   "outputs": [
    {
     "data": {
      "text/html": [
       "<div>\n",
       "<style scoped>\n",
       "    .dataframe tbody tr th:only-of-type {\n",
       "        vertical-align: middle;\n",
       "    }\n",
       "\n",
       "    .dataframe tbody tr th {\n",
       "        vertical-align: top;\n",
       "    }\n",
       "\n",
       "    .dataframe thead th {\n",
       "        text-align: right;\n",
       "    }\n",
       "</style>\n",
       "<table border=\"1\" class=\"dataframe\">\n",
       "  <thead>\n",
       "    <tr style=\"text-align: right;\">\n",
       "      <th></th>\n",
       "      <th>SK_ID_CURR</th>\n",
       "      <th>TARGET</th>\n",
       "      <th>NAME_CONTRACT_TYPE</th>\n",
       "      <th>CODE_GENDER</th>\n",
       "      <th>FLAG_OWN_CAR</th>\n",
       "      <th>FLAG_OWN_REALTY</th>\n",
       "      <th>CNT_CHILDREN</th>\n",
       "      <th>AMT_INCOME_TOTAL</th>\n",
       "      <th>AMT_CREDIT</th>\n",
       "      <th>AMT_ANNUITY</th>\n",
       "      <th>...</th>\n",
       "      <th>FLAG_DOCUMENT_18</th>\n",
       "      <th>FLAG_DOCUMENT_19</th>\n",
       "      <th>FLAG_DOCUMENT_20</th>\n",
       "      <th>FLAG_DOCUMENT_21</th>\n",
       "      <th>AMT_REQ_CREDIT_BUREAU_HOUR</th>\n",
       "      <th>AMT_REQ_CREDIT_BUREAU_DAY</th>\n",
       "      <th>AMT_REQ_CREDIT_BUREAU_WEEK</th>\n",
       "      <th>AMT_REQ_CREDIT_BUREAU_MON</th>\n",
       "      <th>AMT_REQ_CREDIT_BUREAU_QRT</th>\n",
       "      <th>AMT_REQ_CREDIT_BUREAU_YEAR</th>\n",
       "    </tr>\n",
       "  </thead>\n",
       "  <tbody>\n",
       "    <tr>\n",
       "      <th>0</th>\n",
       "      <td>100002</td>\n",
       "      <td>1</td>\n",
       "      <td>Cash loans</td>\n",
       "      <td>M</td>\n",
       "      <td>N</td>\n",
       "      <td>Y</td>\n",
       "      <td>0</td>\n",
       "      <td>202500.0</td>\n",
       "      <td>406597.5</td>\n",
       "      <td>24700.5</td>\n",
       "      <td>...</td>\n",
       "      <td>0</td>\n",
       "      <td>0</td>\n",
       "      <td>0</td>\n",
       "      <td>0</td>\n",
       "      <td>0.0</td>\n",
       "      <td>0.0</td>\n",
       "      <td>0.0</td>\n",
       "      <td>0.0</td>\n",
       "      <td>0.0</td>\n",
       "      <td>1.0</td>\n",
       "    </tr>\n",
       "    <tr>\n",
       "      <th>1</th>\n",
       "      <td>100003</td>\n",
       "      <td>0</td>\n",
       "      <td>Cash loans</td>\n",
       "      <td>F</td>\n",
       "      <td>N</td>\n",
       "      <td>N</td>\n",
       "      <td>0</td>\n",
       "      <td>270000.0</td>\n",
       "      <td>1293502.5</td>\n",
       "      <td>35698.5</td>\n",
       "      <td>...</td>\n",
       "      <td>0</td>\n",
       "      <td>0</td>\n",
       "      <td>0</td>\n",
       "      <td>0</td>\n",
       "      <td>0.0</td>\n",
       "      <td>0.0</td>\n",
       "      <td>0.0</td>\n",
       "      <td>0.0</td>\n",
       "      <td>0.0</td>\n",
       "      <td>0.0</td>\n",
       "    </tr>\n",
       "    <tr>\n",
       "      <th>2</th>\n",
       "      <td>100004</td>\n",
       "      <td>0</td>\n",
       "      <td>Revolving loans</td>\n",
       "      <td>M</td>\n",
       "      <td>Y</td>\n",
       "      <td>Y</td>\n",
       "      <td>0</td>\n",
       "      <td>67500.0</td>\n",
       "      <td>135000.0</td>\n",
       "      <td>6750.0</td>\n",
       "      <td>...</td>\n",
       "      <td>0</td>\n",
       "      <td>0</td>\n",
       "      <td>0</td>\n",
       "      <td>0</td>\n",
       "      <td>0.0</td>\n",
       "      <td>0.0</td>\n",
       "      <td>0.0</td>\n",
       "      <td>0.0</td>\n",
       "      <td>0.0</td>\n",
       "      <td>0.0</td>\n",
       "    </tr>\n",
       "    <tr>\n",
       "      <th>3</th>\n",
       "      <td>100006</td>\n",
       "      <td>0</td>\n",
       "      <td>Cash loans</td>\n",
       "      <td>F</td>\n",
       "      <td>N</td>\n",
       "      <td>Y</td>\n",
       "      <td>0</td>\n",
       "      <td>135000.0</td>\n",
       "      <td>312682.5</td>\n",
       "      <td>29686.5</td>\n",
       "      <td>...</td>\n",
       "      <td>0</td>\n",
       "      <td>0</td>\n",
       "      <td>0</td>\n",
       "      <td>0</td>\n",
       "      <td>NaN</td>\n",
       "      <td>NaN</td>\n",
       "      <td>NaN</td>\n",
       "      <td>NaN</td>\n",
       "      <td>NaN</td>\n",
       "      <td>NaN</td>\n",
       "    </tr>\n",
       "    <tr>\n",
       "      <th>4</th>\n",
       "      <td>100007</td>\n",
       "      <td>0</td>\n",
       "      <td>Cash loans</td>\n",
       "      <td>M</td>\n",
       "      <td>N</td>\n",
       "      <td>Y</td>\n",
       "      <td>0</td>\n",
       "      <td>121500.0</td>\n",
       "      <td>513000.0</td>\n",
       "      <td>21865.5</td>\n",
       "      <td>...</td>\n",
       "      <td>0</td>\n",
       "      <td>0</td>\n",
       "      <td>0</td>\n",
       "      <td>0</td>\n",
       "      <td>0.0</td>\n",
       "      <td>0.0</td>\n",
       "      <td>0.0</td>\n",
       "      <td>0.0</td>\n",
       "      <td>0.0</td>\n",
       "      <td>0.0</td>\n",
       "    </tr>\n",
       "  </tbody>\n",
       "</table>\n",
       "<p>5 rows × 122 columns</p>\n",
       "</div>"
      ],
      "text/plain": [
       "   SK_ID_CURR  TARGET NAME_CONTRACT_TYPE CODE_GENDER FLAG_OWN_CAR  \\\n",
       "0      100002       1         Cash loans           M            N   \n",
       "1      100003       0         Cash loans           F            N   \n",
       "2      100004       0    Revolving loans           M            Y   \n",
       "3      100006       0         Cash loans           F            N   \n",
       "4      100007       0         Cash loans           M            N   \n",
       "\n",
       "  FLAG_OWN_REALTY  CNT_CHILDREN  AMT_INCOME_TOTAL  AMT_CREDIT  AMT_ANNUITY  \\\n",
       "0               Y             0          202500.0    406597.5      24700.5   \n",
       "1               N             0          270000.0   1293502.5      35698.5   \n",
       "2               Y             0           67500.0    135000.0       6750.0   \n",
       "3               Y             0          135000.0    312682.5      29686.5   \n",
       "4               Y             0          121500.0    513000.0      21865.5   \n",
       "\n",
       "   ...  FLAG_DOCUMENT_18 FLAG_DOCUMENT_19 FLAG_DOCUMENT_20 FLAG_DOCUMENT_21  \\\n",
       "0  ...                 0                0                0                0   \n",
       "1  ...                 0                0                0                0   \n",
       "2  ...                 0                0                0                0   \n",
       "3  ...                 0                0                0                0   \n",
       "4  ...                 0                0                0                0   \n",
       "\n",
       "  AMT_REQ_CREDIT_BUREAU_HOUR AMT_REQ_CREDIT_BUREAU_DAY  \\\n",
       "0                        0.0                       0.0   \n",
       "1                        0.0                       0.0   \n",
       "2                        0.0                       0.0   \n",
       "3                        NaN                       NaN   \n",
       "4                        0.0                       0.0   \n",
       "\n",
       "   AMT_REQ_CREDIT_BUREAU_WEEK  AMT_REQ_CREDIT_BUREAU_MON  \\\n",
       "0                         0.0                        0.0   \n",
       "1                         0.0                        0.0   \n",
       "2                         0.0                        0.0   \n",
       "3                         NaN                        NaN   \n",
       "4                         0.0                        0.0   \n",
       "\n",
       "   AMT_REQ_CREDIT_BUREAU_QRT  AMT_REQ_CREDIT_BUREAU_YEAR  \n",
       "0                        0.0                         1.0  \n",
       "1                        0.0                         0.0  \n",
       "2                        0.0                         0.0  \n",
       "3                        NaN                         NaN  \n",
       "4                        0.0                         0.0  \n",
       "\n",
       "[5 rows x 122 columns]"
      ]
     },
     "execution_count": 2,
     "metadata": {},
     "output_type": "execute_result"
    }
   ],
   "source": [
    "previous_application = pd.read_csv('previous_application.csv')\n",
    "application_data.head()\n"
   ]
  },
  {
   "cell_type": "code",
   "execution_count": 4,
   "id": "07ba35ab",
   "metadata": {},
   "outputs": [
    {
     "data": {
      "text/html": [
       "<div>\n",
       "<style scoped>\n",
       "    .dataframe tbody tr th:only-of-type {\n",
       "        vertical-align: middle;\n",
       "    }\n",
       "\n",
       "    .dataframe tbody tr th {\n",
       "        vertical-align: top;\n",
       "    }\n",
       "\n",
       "    .dataframe thead th {\n",
       "        text-align: right;\n",
       "    }\n",
       "</style>\n",
       "<table border=\"1\" class=\"dataframe\">\n",
       "  <thead>\n",
       "    <tr style=\"text-align: right;\">\n",
       "      <th></th>\n",
       "      <th>SK_ID_PREV</th>\n",
       "      <th>SK_ID_CURR</th>\n",
       "      <th>NAME_CONTRACT_TYPE</th>\n",
       "      <th>AMT_ANNUITY</th>\n",
       "      <th>AMT_APPLICATION</th>\n",
       "      <th>AMT_CREDIT</th>\n",
       "      <th>AMT_DOWN_PAYMENT</th>\n",
       "      <th>AMT_GOODS_PRICE</th>\n",
       "      <th>WEEKDAY_APPR_PROCESS_START</th>\n",
       "      <th>HOUR_APPR_PROCESS_START</th>\n",
       "      <th>...</th>\n",
       "      <th>NAME_SELLER_INDUSTRY</th>\n",
       "      <th>CNT_PAYMENT</th>\n",
       "      <th>NAME_YIELD_GROUP</th>\n",
       "      <th>PRODUCT_COMBINATION</th>\n",
       "      <th>DAYS_FIRST_DRAWING</th>\n",
       "      <th>DAYS_FIRST_DUE</th>\n",
       "      <th>DAYS_LAST_DUE_1ST_VERSION</th>\n",
       "      <th>DAYS_LAST_DUE</th>\n",
       "      <th>DAYS_TERMINATION</th>\n",
       "      <th>NFLAG_INSURED_ON_APPROVAL</th>\n",
       "    </tr>\n",
       "  </thead>\n",
       "  <tbody>\n",
       "    <tr>\n",
       "      <th>0</th>\n",
       "      <td>2030495</td>\n",
       "      <td>271877</td>\n",
       "      <td>Consumer loans</td>\n",
       "      <td>1730.430</td>\n",
       "      <td>17145.0</td>\n",
       "      <td>17145.0</td>\n",
       "      <td>0.0</td>\n",
       "      <td>17145.0</td>\n",
       "      <td>SATURDAY</td>\n",
       "      <td>15</td>\n",
       "      <td>...</td>\n",
       "      <td>Connectivity</td>\n",
       "      <td>12.0</td>\n",
       "      <td>middle</td>\n",
       "      <td>POS mobile with interest</td>\n",
       "      <td>365243.0</td>\n",
       "      <td>-42.0</td>\n",
       "      <td>300.0</td>\n",
       "      <td>-42.0</td>\n",
       "      <td>-37.0</td>\n",
       "      <td>0.0</td>\n",
       "    </tr>\n",
       "    <tr>\n",
       "      <th>1</th>\n",
       "      <td>2802425</td>\n",
       "      <td>108129</td>\n",
       "      <td>Cash loans</td>\n",
       "      <td>25188.615</td>\n",
       "      <td>607500.0</td>\n",
       "      <td>679671.0</td>\n",
       "      <td>NaN</td>\n",
       "      <td>607500.0</td>\n",
       "      <td>THURSDAY</td>\n",
       "      <td>11</td>\n",
       "      <td>...</td>\n",
       "      <td>XNA</td>\n",
       "      <td>36.0</td>\n",
       "      <td>low_action</td>\n",
       "      <td>Cash X-Sell: low</td>\n",
       "      <td>365243.0</td>\n",
       "      <td>-134.0</td>\n",
       "      <td>916.0</td>\n",
       "      <td>365243.0</td>\n",
       "      <td>365243.0</td>\n",
       "      <td>1.0</td>\n",
       "    </tr>\n",
       "    <tr>\n",
       "      <th>2</th>\n",
       "      <td>2523466</td>\n",
       "      <td>122040</td>\n",
       "      <td>Cash loans</td>\n",
       "      <td>15060.735</td>\n",
       "      <td>112500.0</td>\n",
       "      <td>136444.5</td>\n",
       "      <td>NaN</td>\n",
       "      <td>112500.0</td>\n",
       "      <td>TUESDAY</td>\n",
       "      <td>11</td>\n",
       "      <td>...</td>\n",
       "      <td>XNA</td>\n",
       "      <td>12.0</td>\n",
       "      <td>high</td>\n",
       "      <td>Cash X-Sell: high</td>\n",
       "      <td>365243.0</td>\n",
       "      <td>-271.0</td>\n",
       "      <td>59.0</td>\n",
       "      <td>365243.0</td>\n",
       "      <td>365243.0</td>\n",
       "      <td>1.0</td>\n",
       "    </tr>\n",
       "    <tr>\n",
       "      <th>3</th>\n",
       "      <td>2819243</td>\n",
       "      <td>176158</td>\n",
       "      <td>Cash loans</td>\n",
       "      <td>47041.335</td>\n",
       "      <td>450000.0</td>\n",
       "      <td>470790.0</td>\n",
       "      <td>NaN</td>\n",
       "      <td>450000.0</td>\n",
       "      <td>MONDAY</td>\n",
       "      <td>7</td>\n",
       "      <td>...</td>\n",
       "      <td>XNA</td>\n",
       "      <td>12.0</td>\n",
       "      <td>middle</td>\n",
       "      <td>Cash X-Sell: middle</td>\n",
       "      <td>365243.0</td>\n",
       "      <td>-482.0</td>\n",
       "      <td>-152.0</td>\n",
       "      <td>-182.0</td>\n",
       "      <td>-177.0</td>\n",
       "      <td>1.0</td>\n",
       "    </tr>\n",
       "    <tr>\n",
       "      <th>4</th>\n",
       "      <td>1784265</td>\n",
       "      <td>202054</td>\n",
       "      <td>Cash loans</td>\n",
       "      <td>31924.395</td>\n",
       "      <td>337500.0</td>\n",
       "      <td>404055.0</td>\n",
       "      <td>NaN</td>\n",
       "      <td>337500.0</td>\n",
       "      <td>THURSDAY</td>\n",
       "      <td>9</td>\n",
       "      <td>...</td>\n",
       "      <td>XNA</td>\n",
       "      <td>24.0</td>\n",
       "      <td>high</td>\n",
       "      <td>Cash Street: high</td>\n",
       "      <td>NaN</td>\n",
       "      <td>NaN</td>\n",
       "      <td>NaN</td>\n",
       "      <td>NaN</td>\n",
       "      <td>NaN</td>\n",
       "      <td>NaN</td>\n",
       "    </tr>\n",
       "  </tbody>\n",
       "</table>\n",
       "<p>5 rows × 37 columns</p>\n",
       "</div>"
      ],
      "text/plain": [
       "   SK_ID_PREV  SK_ID_CURR NAME_CONTRACT_TYPE  AMT_ANNUITY  AMT_APPLICATION  \\\n",
       "0     2030495      271877     Consumer loans     1730.430          17145.0   \n",
       "1     2802425      108129         Cash loans    25188.615         607500.0   \n",
       "2     2523466      122040         Cash loans    15060.735         112500.0   \n",
       "3     2819243      176158         Cash loans    47041.335         450000.0   \n",
       "4     1784265      202054         Cash loans    31924.395         337500.0   \n",
       "\n",
       "   AMT_CREDIT  AMT_DOWN_PAYMENT  AMT_GOODS_PRICE WEEKDAY_APPR_PROCESS_START  \\\n",
       "0     17145.0               0.0          17145.0                   SATURDAY   \n",
       "1    679671.0               NaN         607500.0                   THURSDAY   \n",
       "2    136444.5               NaN         112500.0                    TUESDAY   \n",
       "3    470790.0               NaN         450000.0                     MONDAY   \n",
       "4    404055.0               NaN         337500.0                   THURSDAY   \n",
       "\n",
       "   HOUR_APPR_PROCESS_START  ... NAME_SELLER_INDUSTRY  CNT_PAYMENT  \\\n",
       "0                       15  ...         Connectivity         12.0   \n",
       "1                       11  ...                  XNA         36.0   \n",
       "2                       11  ...                  XNA         12.0   \n",
       "3                        7  ...                  XNA         12.0   \n",
       "4                        9  ...                  XNA         24.0   \n",
       "\n",
       "   NAME_YIELD_GROUP       PRODUCT_COMBINATION  DAYS_FIRST_DRAWING  \\\n",
       "0            middle  POS mobile with interest            365243.0   \n",
       "1        low_action          Cash X-Sell: low            365243.0   \n",
       "2              high         Cash X-Sell: high            365243.0   \n",
       "3            middle       Cash X-Sell: middle            365243.0   \n",
       "4              high         Cash Street: high                 NaN   \n",
       "\n",
       "  DAYS_FIRST_DUE DAYS_LAST_DUE_1ST_VERSION  DAYS_LAST_DUE DAYS_TERMINATION  \\\n",
       "0          -42.0                     300.0          -42.0            -37.0   \n",
       "1         -134.0                     916.0       365243.0         365243.0   \n",
       "2         -271.0                      59.0       365243.0         365243.0   \n",
       "3         -482.0                    -152.0         -182.0           -177.0   \n",
       "4            NaN                       NaN            NaN              NaN   \n",
       "\n",
       "  NFLAG_INSURED_ON_APPROVAL  \n",
       "0                       0.0  \n",
       "1                       1.0  \n",
       "2                       1.0  \n",
       "3                       1.0  \n",
       "4                       NaN  \n",
       "\n",
       "[5 rows x 37 columns]"
      ]
     },
     "execution_count": 4,
     "metadata": {},
     "output_type": "execute_result"
    }
   ],
   "source": [
    "previous_application.head()"
   ]
  },
  {
   "cell_type": "code",
   "execution_count": 5,
   "id": "0504e22b",
   "metadata": {},
   "outputs": [],
   "source": [
    "## Working on previous application \n"
   ]
  },
  {
   "cell_type": "code",
   "execution_count": 6,
   "id": "27cc74cd",
   "metadata": {},
   "outputs": [
    {
     "data": {
      "text/plain": [
       "(1670214, 37)"
      ]
     },
     "execution_count": 6,
     "metadata": {},
     "output_type": "execute_result"
    }
   ],
   "source": [
    "previous_application.shape"
   ]
  },
  {
   "cell_type": "code",
   "execution_count": 7,
   "id": "14c9f822",
   "metadata": {},
   "outputs": [],
   "source": [
    "## applying info function for information regarding given data"
   ]
  },
  {
   "cell_type": "code",
   "execution_count": 8,
   "id": "f9f2a63c",
   "metadata": {},
   "outputs": [
    {
     "name": "stdout",
     "output_type": "stream",
     "text": [
      "<class 'pandas.core.frame.DataFrame'>\n",
      "RangeIndex: 1670214 entries, 0 to 1670213\n",
      "Data columns (total 37 columns):\n",
      " #   Column                       Non-Null Count    Dtype  \n",
      "---  ------                       --------------    -----  \n",
      " 0   SK_ID_PREV                   1670214 non-null  int64  \n",
      " 1   SK_ID_CURR                   1670214 non-null  int64  \n",
      " 2   NAME_CONTRACT_TYPE           1670214 non-null  object \n",
      " 3   AMT_ANNUITY                  1297979 non-null  float64\n",
      " 4   AMT_APPLICATION              1670214 non-null  float64\n",
      " 5   AMT_CREDIT                   1670213 non-null  float64\n",
      " 6   AMT_DOWN_PAYMENT             774370 non-null   float64\n",
      " 7   AMT_GOODS_PRICE              1284699 non-null  float64\n",
      " 8   WEEKDAY_APPR_PROCESS_START   1670214 non-null  object \n",
      " 9   HOUR_APPR_PROCESS_START      1670214 non-null  int64  \n",
      " 10  FLAG_LAST_APPL_PER_CONTRACT  1670214 non-null  object \n",
      " 11  NFLAG_LAST_APPL_IN_DAY       1670214 non-null  int64  \n",
      " 12  RATE_DOWN_PAYMENT            774370 non-null   float64\n",
      " 13  RATE_INTEREST_PRIMARY        5951 non-null     float64\n",
      " 14  RATE_INTEREST_PRIVILEGED     5951 non-null     float64\n",
      " 15  NAME_CASH_LOAN_PURPOSE       1670214 non-null  object \n",
      " 16  NAME_CONTRACT_STATUS         1670214 non-null  object \n",
      " 17  DAYS_DECISION                1670214 non-null  int64  \n",
      " 18  NAME_PAYMENT_TYPE            1670214 non-null  object \n",
      " 19  CODE_REJECT_REASON           1670214 non-null  object \n",
      " 20  NAME_TYPE_SUITE              849809 non-null   object \n",
      " 21  NAME_CLIENT_TYPE             1670214 non-null  object \n",
      " 22  NAME_GOODS_CATEGORY          1670214 non-null  object \n",
      " 23  NAME_PORTFOLIO               1670214 non-null  object \n",
      " 24  NAME_PRODUCT_TYPE            1670214 non-null  object \n",
      " 25  CHANNEL_TYPE                 1670214 non-null  object \n",
      " 26  SELLERPLACE_AREA             1670214 non-null  int64  \n",
      " 27  NAME_SELLER_INDUSTRY         1670214 non-null  object \n",
      " 28  CNT_PAYMENT                  1297984 non-null  float64\n",
      " 29  NAME_YIELD_GROUP             1670214 non-null  object \n",
      " 30  PRODUCT_COMBINATION          1669868 non-null  object \n",
      " 31  DAYS_FIRST_DRAWING           997149 non-null   float64\n",
      " 32  DAYS_FIRST_DUE               997149 non-null   float64\n",
      " 33  DAYS_LAST_DUE_1ST_VERSION    997149 non-null   float64\n",
      " 34  DAYS_LAST_DUE                997149 non-null   float64\n",
      " 35  DAYS_TERMINATION             997149 non-null   float64\n",
      " 36  NFLAG_INSURED_ON_APPROVAL    997149 non-null   float64\n",
      "dtypes: float64(15), int64(6), object(16)\n",
      "memory usage: 471.5+ MB\n"
     ]
    }
   ],
   "source": [
    "previous_application.info()"
   ]
  },
  {
   "cell_type": "code",
   "execution_count": 9,
   "id": "c1d53924",
   "metadata": {},
   "outputs": [],
   "source": [
    "## checking null values in given data"
   ]
  },
  {
   "cell_type": "code",
   "execution_count": 10,
   "id": "a7cba320",
   "metadata": {},
   "outputs": [
    {
     "data": {
      "text/plain": [
       "SK_ID_PREV                           0\n",
       "SK_ID_CURR                           0\n",
       "NAME_CONTRACT_TYPE                   0\n",
       "AMT_ANNUITY                     372235\n",
       "AMT_APPLICATION                      0\n",
       "AMT_CREDIT                           1\n",
       "AMT_DOWN_PAYMENT                895844\n",
       "AMT_GOODS_PRICE                 385515\n",
       "WEEKDAY_APPR_PROCESS_START           0\n",
       "HOUR_APPR_PROCESS_START              0\n",
       "FLAG_LAST_APPL_PER_CONTRACT          0\n",
       "NFLAG_LAST_APPL_IN_DAY               0\n",
       "RATE_DOWN_PAYMENT               895844\n",
       "RATE_INTEREST_PRIMARY          1664263\n",
       "RATE_INTEREST_PRIVILEGED       1664263\n",
       "NAME_CASH_LOAN_PURPOSE               0\n",
       "NAME_CONTRACT_STATUS                 0\n",
       "DAYS_DECISION                        0\n",
       "NAME_PAYMENT_TYPE                    0\n",
       "CODE_REJECT_REASON                   0\n",
       "NAME_TYPE_SUITE                 820405\n",
       "NAME_CLIENT_TYPE                     0\n",
       "NAME_GOODS_CATEGORY                  0\n",
       "NAME_PORTFOLIO                       0\n",
       "NAME_PRODUCT_TYPE                    0\n",
       "CHANNEL_TYPE                         0\n",
       "SELLERPLACE_AREA                     0\n",
       "NAME_SELLER_INDUSTRY                 0\n",
       "CNT_PAYMENT                     372230\n",
       "NAME_YIELD_GROUP                     0\n",
       "PRODUCT_COMBINATION                346\n",
       "DAYS_FIRST_DRAWING              673065\n",
       "DAYS_FIRST_DUE                  673065\n",
       "DAYS_LAST_DUE_1ST_VERSION       673065\n",
       "DAYS_LAST_DUE                   673065\n",
       "DAYS_TERMINATION                673065\n",
       "NFLAG_INSURED_ON_APPROVAL       673065\n",
       "dtype: int64"
      ]
     },
     "execution_count": 10,
     "metadata": {},
     "output_type": "execute_result"
    }
   ],
   "source": [
    "previous_application.isnull().sum()"
   ]
  },
  {
   "cell_type": "code",
   "execution_count": 11,
   "id": "576c5068",
   "metadata": {},
   "outputs": [],
   "source": [
    "## taking percentage of missing values "
   ]
  },
  {
   "cell_type": "code",
   "execution_count": 12,
   "id": "91fb60e9",
   "metadata": {},
   "outputs": [
    {
     "data": {
      "text/plain": [
       "SK_ID_PREV                      0.000000\n",
       "SK_ID_CURR                      0.000000\n",
       "NAME_CONTRACT_TYPE              0.000000\n",
       "AMT_ANNUITY                    22.286665\n",
       "AMT_APPLICATION                 0.000000\n",
       "AMT_CREDIT                      0.000060\n",
       "AMT_DOWN_PAYMENT               53.636480\n",
       "AMT_GOODS_PRICE                23.081773\n",
       "WEEKDAY_APPR_PROCESS_START      0.000000\n",
       "HOUR_APPR_PROCESS_START         0.000000\n",
       "FLAG_LAST_APPL_PER_CONTRACT     0.000000\n",
       "NFLAG_LAST_APPL_IN_DAY          0.000000\n",
       "RATE_DOWN_PAYMENT              53.636480\n",
       "RATE_INTEREST_PRIMARY          99.643698\n",
       "RATE_INTEREST_PRIVILEGED       99.643698\n",
       "NAME_CASH_LOAN_PURPOSE          0.000000\n",
       "NAME_CONTRACT_STATUS            0.000000\n",
       "DAYS_DECISION                   0.000000\n",
       "NAME_PAYMENT_TYPE               0.000000\n",
       "CODE_REJECT_REASON              0.000000\n",
       "NAME_TYPE_SUITE                49.119754\n",
       "NAME_CLIENT_TYPE                0.000000\n",
       "NAME_GOODS_CATEGORY             0.000000\n",
       "NAME_PORTFOLIO                  0.000000\n",
       "NAME_PRODUCT_TYPE               0.000000\n",
       "CHANNEL_TYPE                    0.000000\n",
       "SELLERPLACE_AREA                0.000000\n",
       "NAME_SELLER_INDUSTRY            0.000000\n",
       "CNT_PAYMENT                    22.286366\n",
       "NAME_YIELD_GROUP                0.000000\n",
       "PRODUCT_COMBINATION             0.020716\n",
       "DAYS_FIRST_DRAWING             40.298129\n",
       "DAYS_FIRST_DUE                 40.298129\n",
       "DAYS_LAST_DUE_1ST_VERSION      40.298129\n",
       "DAYS_LAST_DUE                  40.298129\n",
       "DAYS_TERMINATION               40.298129\n",
       "NFLAG_INSURED_ON_APPROVAL      40.298129\n",
       "dtype: float64"
      ]
     },
     "execution_count": 12,
     "metadata": {},
     "output_type": "execute_result"
    }
   ],
   "source": [
    "(previous_application.isnull().sum()/len(previous_application.index))*100"
   ]
  },
  {
   "cell_type": "code",
   "execution_count": 13,
   "id": "b2150c87",
   "metadata": {},
   "outputs": [],
   "source": [
    "## Data cleaning\n",
    "## Removing column which has missing values more than 50% and input some value to column which has missing value less than 50%\n"
   ]
  },
  {
   "cell_type": "code",
   "execution_count": 14,
   "id": "b98395b3",
   "metadata": {},
   "outputs": [],
   "source": [
    "## Dropping column of missing values > 50%"
   ]
  },
  {
   "cell_type": "code",
   "execution_count": 15,
   "id": "cbf59898",
   "metadata": {},
   "outputs": [],
   "source": [
    "previous_application = previous_application.drop(['AMT_DOWN_PAYMENT','RATE_DOWN_PAYMENT','RATE_INTEREST_PRIMARY','RATE_INTEREST_PRIVILEGED'],axis=1)"
   ]
  },
  {
   "cell_type": "code",
   "execution_count": 16,
   "id": "caec4e0f",
   "metadata": {},
   "outputs": [],
   "source": [
    "## checking that the column with more than 50% missing values dropped or not"
   ]
  },
  {
   "cell_type": "code",
   "execution_count": 17,
   "id": "03b6eb86",
   "metadata": {},
   "outputs": [
    {
     "data": {
      "text/plain": [
       "SK_ID_PREV                      0.000000\n",
       "SK_ID_CURR                      0.000000\n",
       "NAME_CONTRACT_TYPE              0.000000\n",
       "AMT_ANNUITY                    22.286665\n",
       "AMT_APPLICATION                 0.000000\n",
       "AMT_CREDIT                      0.000060\n",
       "AMT_GOODS_PRICE                23.081773\n",
       "WEEKDAY_APPR_PROCESS_START      0.000000\n",
       "HOUR_APPR_PROCESS_START         0.000000\n",
       "FLAG_LAST_APPL_PER_CONTRACT     0.000000\n",
       "NFLAG_LAST_APPL_IN_DAY          0.000000\n",
       "NAME_CASH_LOAN_PURPOSE          0.000000\n",
       "NAME_CONTRACT_STATUS            0.000000\n",
       "DAYS_DECISION                   0.000000\n",
       "NAME_PAYMENT_TYPE               0.000000\n",
       "CODE_REJECT_REASON              0.000000\n",
       "NAME_TYPE_SUITE                49.119754\n",
       "NAME_CLIENT_TYPE                0.000000\n",
       "NAME_GOODS_CATEGORY             0.000000\n",
       "NAME_PORTFOLIO                  0.000000\n",
       "NAME_PRODUCT_TYPE               0.000000\n",
       "CHANNEL_TYPE                    0.000000\n",
       "SELLERPLACE_AREA                0.000000\n",
       "NAME_SELLER_INDUSTRY            0.000000\n",
       "CNT_PAYMENT                    22.286366\n",
       "NAME_YIELD_GROUP                0.000000\n",
       "PRODUCT_COMBINATION             0.020716\n",
       "DAYS_FIRST_DRAWING             40.298129\n",
       "DAYS_FIRST_DUE                 40.298129\n",
       "DAYS_LAST_DUE_1ST_VERSION      40.298129\n",
       "DAYS_LAST_DUE                  40.298129\n",
       "DAYS_TERMINATION               40.298129\n",
       "NFLAG_INSURED_ON_APPROVAL      40.298129\n",
       "dtype: float64"
      ]
     },
     "execution_count": 17,
     "metadata": {},
     "output_type": "execute_result"
    }
   ],
   "source": [
    "(previous_application.isnull().sum()/len(previous_application.index))*100"
   ]
  },
  {
   "cell_type": "code",
   "execution_count": 18,
   "id": "8ff2c78e",
   "metadata": {},
   "outputs": [],
   "source": [
    "## Handling missing values < 50%"
   ]
  },
  {
   "cell_type": "code",
   "execution_count": 19,
   "id": "434ef00f",
   "metadata": {},
   "outputs": [],
   "source": [
    "## Treating all columns with missing values < 50%"
   ]
  },
  {
   "cell_type": "code",
   "execution_count": 20,
   "id": "e562ba82",
   "metadata": {},
   "outputs": [],
   "source": [
    "## AMT_ANUITY"
   ]
  },
  {
   "cell_type": "code",
   "execution_count": 31,
   "id": "8ae7dc52",
   "metadata": {},
   "outputs": [
    {
     "data": {
      "text/plain": [
       "11250.000    386209\n",
       "2250.000      31865\n",
       "6750.000      13442\n",
       "9000.000      12496\n",
       "22500.000     11903\n",
       "              ...  \n",
       "3794.445          1\n",
       "8723.160          1\n",
       "27948.330         1\n",
       "25374.285         1\n",
       "14704.290         1\n",
       "Name: AMT_ANNUITY, Length: 357959, dtype: int64"
      ]
     },
     "execution_count": 31,
     "metadata": {},
     "output_type": "execute_result"
    }
   ],
   "source": [
    "previous_application['AMT_ANNUITY'].value_counts()"
   ]
  },
  {
   "cell_type": "code",
   "execution_count": 32,
   "id": "2905c6a9",
   "metadata": {},
   "outputs": [
    {
     "data": {
      "text/plain": [
       "11250.0"
      ]
     },
     "execution_count": 32,
     "metadata": {},
     "output_type": "execute_result"
    }
   ],
   "source": [
    "previous_application['AMT_ANNUITY'].median()"
   ]
  },
  {
   "cell_type": "code",
   "execution_count": 23,
   "id": "9407fd01",
   "metadata": {
    "scrolled": true
   },
   "outputs": [
    {
     "data": {
      "image/png": "[encoded data removed]",
      "text/plain": [
       "<Figure size 640x480 with 1 Axes>"
      ]
     },
     "metadata": {},
     "output_type": "display_data"
    }
   ],
   "source": [
    "previous_application['AMT_ANNUITY'].plot.hist()\n",
    "plt.show()"
   ]
  },
  {
   "cell_type": "code",
   "execution_count": 24,
   "id": "85d3d8d8",
   "metadata": {},
   "outputs": [],
   "source": [
    "previous_application['AMT_ANNUITY'] = previous_application['AMT_ANNUITY'].fillna(previous_application['AMT_ANNUITY'].median())"
   ]
  },
  {
   "cell_type": "code",
   "execution_count": 25,
   "id": "a194261c",
   "metadata": {},
   "outputs": [
    {
     "data": {
      "text/plain": [
       "SK_ID_PREV                          0\n",
       "SK_ID_CURR                          0\n",
       "NAME_CONTRACT_TYPE                  0\n",
       "AMT_ANNUITY                         0\n",
       "AMT_APPLICATION                     0\n",
       "AMT_CREDIT                          1\n",
       "AMT_GOODS_PRICE                385515\n",
       "WEEKDAY_APPR_PROCESS_START          0\n",
       "HOUR_APPR_PROCESS_START             0\n",
       "FLAG_LAST_APPL_PER_CONTRACT         0\n",
       "NFLAG_LAST_APPL_IN_DAY              0\n",
       "NAME_CASH_LOAN_PURPOSE              0\n",
       "NAME_CONTRACT_STATUS                0\n",
       "DAYS_DECISION                       0\n",
       "NAME_PAYMENT_TYPE                   0\n",
       "CODE_REJECT_REASON                  0\n",
       "NAME_TYPE_SUITE                820405\n",
       "NAME_CLIENT_TYPE                    0\n",
       "NAME_GOODS_CATEGORY                 0\n",
       "NAME_PORTFOLIO                      0\n",
       "NAME_PRODUCT_TYPE                   0\n",
       "CHANNEL_TYPE                        0\n",
       "SELLERPLACE_AREA                    0\n",
       "NAME_SELLER_INDUSTRY                0\n",
       "CNT_PAYMENT                    372230\n",
       "NAME_YIELD_GROUP                    0\n",
       "PRODUCT_COMBINATION               346\n",
       "DAYS_FIRST_DRAWING             673065\n",
       "DAYS_FIRST_DUE                 673065\n",
       "DAYS_LAST_DUE_1ST_VERSION      673065\n",
       "DAYS_LAST_DUE                  673065\n",
       "DAYS_TERMINATION               673065\n",
       "NFLAG_INSURED_ON_APPROVAL      673065\n",
       "dtype: int64"
      ]
     },
     "execution_count": 25,
     "metadata": {},
     "output_type": "execute_result"
    }
   ],
   "source": [
    "previous_application.isnull().sum()"
   ]
  },
  {
   "cell_type": "code",
   "execution_count": 26,
   "id": "27cd5502",
   "metadata": {},
   "outputs": [
    {
     "data": {
      "text/plain": [
       "11250.000    386209\n",
       "2250.000      31865\n",
       "6750.000      13442\n",
       "9000.000      12496\n",
       "22500.000     11903\n",
       "              ...  \n",
       "3794.445          1\n",
       "8723.160          1\n",
       "27948.330         1\n",
       "25374.285         1\n",
       "14704.290         1\n",
       "Name: AMT_ANNUITY, Length: 357959, dtype: int64"
      ]
     },
     "execution_count": 26,
     "metadata": {},
     "output_type": "execute_result"
    }
   ],
   "source": [
    "previous_application['AMT_ANNUITY'].value_counts()"
   ]
  },
  {
   "cell_type": "code",
   "execution_count": 27,
   "id": "fd854e09",
   "metadata": {},
   "outputs": [
    {
     "data": {
      "text/plain": [
       "count    1.670214e+06\n",
       "mean     1.490651e+04\n",
       "std      1.317751e+04\n",
       "min      0.000000e+00\n",
       "25%      7.547096e+03\n",
       "50%      1.125000e+04\n",
       "75%      1.682403e+04\n",
       "max      4.180581e+05\n",
       "Name: AMT_ANNUITY, dtype: float64"
      ]
     },
     "execution_count": 27,
     "metadata": {},
     "output_type": "execute_result"
    }
   ],
   "source": [
    "previous_application['AMT_ANNUITY'].describe()"
   ]
  },
  {
   "cell_type": "code",
   "execution_count": 28,
   "id": "86a6501d",
   "metadata": {},
   "outputs": [
    {
     "data": {
      "image/png": "[encoded data removed]",
      "text/plain": [
       "<Figure size 640x480 with 1 Axes>"
      ]
     },
     "metadata": {},
     "output_type": "display_data"
    }
   ],
   "source": [
    "previous_application['AMT_ANNUITY'].plot.hist()\n",
    "plt.show()"
   ]
  },
  {
   "cell_type": "code",
   "execution_count": 29,
   "id": "99a35fdb",
   "metadata": {},
   "outputs": [
    {
     "data": {
      "image/png": "[encoded data removed]",
      "text/plain": [
       "<Figure size 640x480 with 1 Axes>"
      ]
     },
     "metadata": {},
     "output_type": "display_data"
    }
   ],
   "source": [
    "previous_application['AMT_ANNUITY'].plot.box().figsize=[8,10]\n",
    "plt.show()"
   ]
  },
  {
   "cell_type": "code",
   "execution_count": 30,
   "id": "9acc92e1",
   "metadata": {},
   "outputs": [],
   "source": [
    "## Points \n",
    "#1)Seems all values are continuous.\n",
    "#2)No need to remove outliers."
   ]
  },
  {
   "cell_type": "code",
   "execution_count": 49,
   "id": "7a2acb13",
   "metadata": {},
   "outputs": [
    {
     "data": {
      "text/plain": [
       "SK_ID_PREV                          0\n",
       "SK_ID_CURR                          0\n",
       "NAME_CONTRACT_TYPE                  0\n",
       "AMT_ANNUITY                         0\n",
       "AMT_APPLICATION                     0\n",
       "AMT_CREDIT                          1\n",
       "AMT_GOODS_PRICE                385515\n",
       "WEEKDAY_APPR_PROCESS_START          0\n",
       "HOUR_APPR_PROCESS_START             0\n",
       "FLAG_LAST_APPL_PER_CONTRACT         0\n",
       "NFLAG_LAST_APPL_IN_DAY              0\n",
       "NAME_CASH_LOAN_PURPOSE              0\n",
       "NAME_CONTRACT_STATUS                0\n",
       "DAYS_DECISION                       0\n",
       "NAME_PAYMENT_TYPE                   0\n",
       "CODE_REJECT_REASON                  0\n",
       "NAME_TYPE_SUITE                820405\n",
       "NAME_CLIENT_TYPE                    0\n",
       "NAME_GOODS_CATEGORY                 0\n",
       "NAME_PORTFOLIO                      0\n",
       "NAME_PRODUCT_TYPE                   0\n",
       "CHANNEL_TYPE                        0\n",
       "SELLERPLACE_AREA                    0\n",
       "NAME_SELLER_INDUSTRY                0\n",
       "CNT_PAYMENT                    372230\n",
       "NAME_YIELD_GROUP                    0\n",
       "PRODUCT_COMBINATION               346\n",
       "DAYS_FIRST_DRAWING             673065\n",
       "DAYS_FIRST_DUE                 673065\n",
       "DAYS_LAST_DUE_1ST_VERSION      673065\n",
       "DAYS_LAST_DUE                  673065\n",
       "DAYS_TERMINATION               673065\n",
       "NFLAG_INSURED_ON_APPROVAL      673065\n",
       "dtype: int64"
      ]
     },
     "execution_count": 49,
     "metadata": {},
     "output_type": "execute_result"
    }
   ],
   "source": [
    "previous_application.isnull().sum()"
   ]
  },
  {
   "cell_type": "code",
   "execution_count": 23,
   "id": "f74b30c7",
   "metadata": {},
   "outputs": [],
   "source": [
    "## Treating next column (AMT_GOODS_PRICE)\n"
   ]
  },
  {
   "cell_type": "code",
   "execution_count": 51,
   "id": "87f1c0b9",
   "metadata": {},
   "outputs": [
    {
     "data": {
      "text/plain": [
       "count    1.284699e+06\n",
       "mean     2.278473e+05\n",
       "std      3.153966e+05\n",
       "min      0.000000e+00\n",
       "25%      5.084100e+04\n",
       "50%      1.123200e+05\n",
       "75%      2.340000e+05\n",
       "max      6.905160e+06\n",
       "Name: AMT_GOODS_PRICE, dtype: float64"
      ]
     },
     "execution_count": 51,
     "metadata": {},
     "output_type": "execute_result"
    }
   ],
   "source": [
    "previous_application['AMT_GOODS_PRICE'].describe()"
   ]
  },
  {
   "cell_type": "code",
   "execution_count": 52,
   "id": "81a95928",
   "metadata": {},
   "outputs": [
    {
     "data": {
      "text/plain": [
       "45000.00     47831\n",
       "225000.00    43549\n",
       "135000.00    40666\n",
       "450000.00    38926\n",
       "90000.00     29367\n",
       "             ...  \n",
       "185292.00        1\n",
       "225054.00        1\n",
       "156212.55        1\n",
       "99896.31         1\n",
       "267295.50        1\n",
       "Name: AMT_GOODS_PRICE, Length: 93885, dtype: int64"
      ]
     },
     "execution_count": 52,
     "metadata": {},
     "output_type": "execute_result"
    }
   ],
   "source": [
    "previous_application['AMT_GOODS_PRICE'].value_counts()"
   ]
  },
  {
   "cell_type": "code",
   "execution_count": 53,
   "id": "dff3deb6",
   "metadata": {},
   "outputs": [
    {
     "data": {
      "text/plain": [
       "112320.0"
      ]
     },
     "execution_count": 53,
     "metadata": {},
     "output_type": "execute_result"
    }
   ],
   "source": [
    "previous_application['AMT_GOODS_PRICE'].median()"
   ]
  },
  {
   "cell_type": "code",
   "execution_count": 54,
   "id": "490871a0",
   "metadata": {},
   "outputs": [],
   "source": [
    "previous_application['AMT_GOODS_PRICE'] = previous_application['AMT_GOODS_PRICE'].fillna(previous_application['AMT_GOODS_PRICE'].median())"
   ]
  },
  {
   "cell_type": "code",
   "execution_count": 55,
   "id": "8291af8a",
   "metadata": {},
   "outputs": [
    {
     "data": {
      "text/plain": [
       "SK_ID_PREV                          0\n",
       "SK_ID_CURR                          0\n",
       "NAME_CONTRACT_TYPE                  0\n",
       "AMT_ANNUITY                         0\n",
       "AMT_APPLICATION                     0\n",
       "AMT_CREDIT                          1\n",
       "AMT_GOODS_PRICE                     0\n",
       "WEEKDAY_APPR_PROCESS_START          0\n",
       "HOUR_APPR_PROCESS_START             0\n",
       "FLAG_LAST_APPL_PER_CONTRACT         0\n",
       "NFLAG_LAST_APPL_IN_DAY              0\n",
       "NAME_CASH_LOAN_PURPOSE              0\n",
       "NAME_CONTRACT_STATUS                0\n",
       "DAYS_DECISION                       0\n",
       "NAME_PAYMENT_TYPE                   0\n",
       "CODE_REJECT_REASON                  0\n",
       "NAME_TYPE_SUITE                820405\n",
       "NAME_CLIENT_TYPE                    0\n",
       "NAME_GOODS_CATEGORY                 0\n",
       "NAME_PORTFOLIO                      0\n",
       "NAME_PRODUCT_TYPE                   0\n",
       "CHANNEL_TYPE                        0\n",
       "SELLERPLACE_AREA                    0\n",
       "NAME_SELLER_INDUSTRY                0\n",
       "CNT_PAYMENT                    372230\n",
       "NAME_YIELD_GROUP                    0\n",
       "PRODUCT_COMBINATION               346\n",
       "DAYS_FIRST_DRAWING             673065\n",
       "DAYS_FIRST_DUE                 673065\n",
       "DAYS_LAST_DUE_1ST_VERSION      673065\n",
       "DAYS_LAST_DUE                  673065\n",
       "DAYS_TERMINATION               673065\n",
       "NFLAG_INSURED_ON_APPROVAL      673065\n",
       "dtype: int64"
      ]
     },
     "execution_count": 55,
     "metadata": {},
     "output_type": "execute_result"
    }
   ],
   "source": [
    "previous_application.isnull().sum()"
   ]
  },
  {
   "cell_type": "code",
   "execution_count": 56,
   "id": "955b0627",
   "metadata": {},
   "outputs": [
    {
     "data": {
      "text/plain": [
       "112320.00    385545\n",
       "45000.00      47831\n",
       "225000.00     43549\n",
       "135000.00     40666\n",
       "450000.00     38926\n",
       "              ...  \n",
       "185292.00         1\n",
       "225054.00         1\n",
       "156212.55         1\n",
       "99896.31          1\n",
       "267295.50         1\n",
       "Name: AMT_GOODS_PRICE, Length: 93885, dtype: int64"
      ]
     },
     "execution_count": 56,
     "metadata": {},
     "output_type": "execute_result"
    }
   ],
   "source": [
    "previous_application['AMT_GOODS_PRICE'].value_counts()"
   ]
  },
  {
   "cell_type": "code",
   "execution_count": 57,
   "id": "9981fc50",
   "metadata": {},
   "outputs": [
    {
     "data": {
      "text/plain": [
       "count    1.670214e+06\n",
       "mean     2.011815e+05\n",
       "std      2.808629e+05\n",
       "min      0.000000e+00\n",
       "25%      6.750000e+04\n",
       "50%      1.123200e+05\n",
       "75%      1.804050e+05\n",
       "max      6.905160e+06\n",
       "Name: AMT_GOODS_PRICE, dtype: float64"
      ]
     },
     "execution_count": 57,
     "metadata": {},
     "output_type": "execute_result"
    }
   ],
   "source": [
    "previous_application['AMT_GOODS_PRICE'].describe()"
   ]
  },
  {
   "cell_type": "code",
   "execution_count": 35,
   "id": "f1a5e2dd",
   "metadata": {},
   "outputs": [
    {
     "data": {
      "image/png": "[encoded data removed]",
      "text/plain": [
       "<Figure size 640x480 with 1 Axes>"
      ]
     },
     "metadata": {},
     "output_type": "display_data"
    }
   ],
   "source": [
    "previous_application['AMT_DOWN_PAYMENT'].plot.hist()\n",
    "plt.show()"
   ]
  },
  {
   "cell_type": "code",
   "execution_count": 58,
   "id": "1bd0330e",
   "metadata": {},
   "outputs": [
    {
     "data": {
      "image/png": "[encoded data removed]",
      "text/plain": [
       "<Figure size 640x480 with 1 Axes>"
      ]
     },
     "metadata": {},
     "output_type": "display_data"
    }
   ],
   "source": [
    "previous_application['AMT_GOODS_PRICE'].plot.box()\n",
    "plt.show()"
   ]
  },
  {
   "cell_type": "code",
   "execution_count": 38,
   "id": "7a815a05",
   "metadata": {},
   "outputs": [],
   "source": [
    "## Data are in continuous form hence no need to treat outliers."
   ]
  },
  {
   "cell_type": "code",
   "execution_count": 59,
   "id": "7c5cf2ab",
   "metadata": {},
   "outputs": [
    {
     "data": {
      "text/plain": [
       "SK_ID_PREV                          0\n",
       "SK_ID_CURR                          0\n",
       "NAME_CONTRACT_TYPE                  0\n",
       "AMT_ANNUITY                         0\n",
       "AMT_APPLICATION                     0\n",
       "AMT_CREDIT                          1\n",
       "AMT_GOODS_PRICE                     0\n",
       "WEEKDAY_APPR_PROCESS_START          0\n",
       "HOUR_APPR_PROCESS_START             0\n",
       "FLAG_LAST_APPL_PER_CONTRACT         0\n",
       "NFLAG_LAST_APPL_IN_DAY              0\n",
       "NAME_CASH_LOAN_PURPOSE              0\n",
       "NAME_CONTRACT_STATUS                0\n",
       "DAYS_DECISION                       0\n",
       "NAME_PAYMENT_TYPE                   0\n",
       "CODE_REJECT_REASON                  0\n",
       "NAME_TYPE_SUITE                820405\n",
       "NAME_CLIENT_TYPE                    0\n",
       "NAME_GOODS_CATEGORY                 0\n",
       "NAME_PORTFOLIO                      0\n",
       "NAME_PRODUCT_TYPE                   0\n",
       "CHANNEL_TYPE                        0\n",
       "SELLERPLACE_AREA                    0\n",
       "NAME_SELLER_INDUSTRY                0\n",
       "CNT_PAYMENT                    372230\n",
       "NAME_YIELD_GROUP                    0\n",
       "PRODUCT_COMBINATION               346\n",
       "DAYS_FIRST_DRAWING             673065\n",
       "DAYS_FIRST_DUE                 673065\n",
       "DAYS_LAST_DUE_1ST_VERSION      673065\n",
       "DAYS_LAST_DUE                  673065\n",
       "DAYS_TERMINATION               673065\n",
       "NFLAG_INSURED_ON_APPROVAL      673065\n",
       "dtype: int64"
      ]
     },
     "execution_count": 59,
     "metadata": {},
     "output_type": "execute_result"
    }
   ],
   "source": [
    "previous_application.isnull().sum()"
   ]
  },
  {
   "cell_type": "code",
   "execution_count": 40,
   "id": "a906debf",
   "metadata": {},
   "outputs": [],
   "source": [
    "## Treating next column(NAME_TYPE_SUITE)"
   ]
  },
  {
   "cell_type": "code",
   "execution_count": 60,
   "id": "8cf5c9a6",
   "metadata": {},
   "outputs": [
    {
     "data": {
      "text/plain": [
       "820405"
      ]
     },
     "execution_count": 60,
     "metadata": {},
     "output_type": "execute_result"
    }
   ],
   "source": [
    "previous_application['NAME_TYPE_SUITE'].isnull().sum()"
   ]
  },
  {
   "cell_type": "code",
   "execution_count": null,
   "id": "8f3bb7e9",
   "metadata": {},
   "outputs": [],
   "source": []
  },
  {
   "cell_type": "code",
   "execution_count": 62,
   "id": "07836b33",
   "metadata": {},
   "outputs": [
    {
     "data": {
      "text/plain": [
       "Unaccompanied      508970\n",
       "Family             213263\n",
       "Spouse, partner     67069\n",
       "Children            31566\n",
       "Other_B             17624\n",
       "Other_A              9077\n",
       "Group of people      2240\n",
       "Name: NAME_TYPE_SUITE, dtype: int64"
      ]
     },
     "execution_count": 62,
     "metadata": {},
     "output_type": "execute_result"
    }
   ],
   "source": [
    "previous_application['NAME_TYPE_SUITE'].value_counts()"
   ]
  },
  {
   "cell_type": "code",
   "execution_count": 63,
   "id": "0174cbc1",
   "metadata": {},
   "outputs": [],
   "source": [
    "previous_application['NAME_TYPE_SUITE'] = previous_application['NAME_TYPE_SUITE'].fillna('Goods')"
   ]
  },
  {
   "cell_type": "code",
   "execution_count": 64,
   "id": "cf1c437b",
   "metadata": {},
   "outputs": [
    {
     "data": {
      "text/plain": [
       "Goods              820405\n",
       "Unaccompanied      508970\n",
       "Family             213263\n",
       "Spouse, partner     67069\n",
       "Children            31566\n",
       "Other_B             17624\n",
       "Other_A              9077\n",
       "Group of people      2240\n",
       "Name: NAME_TYPE_SUITE, dtype: int64"
      ]
     },
     "execution_count": 64,
     "metadata": {},
     "output_type": "execute_result"
    }
   ],
   "source": [
    "previous_application['NAME_TYPE_SUITE'].value_counts()"
   ]
  },
  {
   "cell_type": "code",
   "execution_count": 66,
   "id": "8580c527",
   "metadata": {},
   "outputs": [
    {
     "data": {
      "text/plain": [
       "SK_ID_PREV                          0\n",
       "SK_ID_CURR                          0\n",
       "NAME_CONTRACT_TYPE                  0\n",
       "AMT_ANNUITY                         0\n",
       "AMT_APPLICATION                     0\n",
       "AMT_CREDIT                          1\n",
       "AMT_GOODS_PRICE                     0\n",
       "WEEKDAY_APPR_PROCESS_START          0\n",
       "HOUR_APPR_PROCESS_START             0\n",
       "FLAG_LAST_APPL_PER_CONTRACT         0\n",
       "NFLAG_LAST_APPL_IN_DAY              0\n",
       "NAME_CASH_LOAN_PURPOSE              0\n",
       "NAME_CONTRACT_STATUS                0\n",
       "DAYS_DECISION                       0\n",
       "NAME_PAYMENT_TYPE                   0\n",
       "CODE_REJECT_REASON                  0\n",
       "NAME_TYPE_SUITE                     0\n",
       "NAME_CLIENT_TYPE                    0\n",
       "NAME_GOODS_CATEGORY                 0\n",
       "NAME_PORTFOLIO                      0\n",
       "NAME_PRODUCT_TYPE                   0\n",
       "CHANNEL_TYPE                        0\n",
       "SELLERPLACE_AREA                    0\n",
       "NAME_SELLER_INDUSTRY                0\n",
       "CNT_PAYMENT                    372230\n",
       "NAME_YIELD_GROUP                    0\n",
       "PRODUCT_COMBINATION               346\n",
       "DAYS_FIRST_DRAWING             673065\n",
       "DAYS_FIRST_DUE                 673065\n",
       "DAYS_LAST_DUE_1ST_VERSION      673065\n",
       "DAYS_LAST_DUE                  673065\n",
       "DAYS_TERMINATION               673065\n",
       "NFLAG_INSURED_ON_APPROVAL      673065\n",
       "dtype: int64"
      ]
     },
     "execution_count": 66,
     "metadata": {},
     "output_type": "execute_result"
    }
   ],
   "source": [
    "previous_application.isnull().sum()"
   ]
  },
  {
   "cell_type": "code",
   "execution_count": 67,
   "id": "9ddc64fe",
   "metadata": {},
   "outputs": [],
   "source": [
    "## Treating next column(CNT_PAYMENT)"
   ]
  },
  {
   "cell_type": "code",
   "execution_count": 68,
   "id": "4eed421c",
   "metadata": {},
   "outputs": [
    {
     "data": {
      "text/plain": [
       "0    12.0\n",
       "1    36.0\n",
       "2    12.0\n",
       "3    12.0\n",
       "4    24.0\n",
       "Name: CNT_PAYMENT, dtype: float64"
      ]
     },
     "execution_count": 68,
     "metadata": {},
     "output_type": "execute_result"
    }
   ],
   "source": [
    "previous_application['CNT_PAYMENT'].head()"
   ]
  },
  {
   "cell_type": "code",
   "execution_count": 70,
   "id": "68f58edc",
   "metadata": {},
   "outputs": [
    {
     "data": {
      "text/plain": [
       "372230"
      ]
     },
     "execution_count": 70,
     "metadata": {},
     "output_type": "execute_result"
    }
   ],
   "source": [
    "previous_application['CNT_PAYMENT'].isnull().sum()"
   ]
  },
  {
   "cell_type": "code",
   "execution_count": 73,
   "id": "a4441591",
   "metadata": {},
   "outputs": [
    {
     "data": {
      "text/plain": [
       "<AxesSubplot:ylabel='Frequency'>"
      ]
     },
     "execution_count": 73,
     "metadata": {},
     "output_type": "execute_result"
    },
    {
     "data": {
      "image/png": "[encoded data removed]",
      "text/plain": [
       "<Figure size 640x480 with 1 Axes>"
      ]
     },
     "metadata": {},
     "output_type": "display_data"
    }
   ],
   "source": [
    "previous_application['CNT_PAYMENT'].plot.hist()"
   ]
  },
  {
   "cell_type": "code",
   "execution_count": 75,
   "id": "bc7299e8",
   "metadata": {},
   "outputs": [
    {
     "data": {
      "text/plain": [
       "count    1.297984e+06\n",
       "mean     1.605408e+01\n",
       "std      1.456729e+01\n",
       "min      0.000000e+00\n",
       "25%      6.000000e+00\n",
       "50%      1.200000e+01\n",
       "75%      2.400000e+01\n",
       "max      8.400000e+01\n",
       "Name: CNT_PAYMENT, dtype: float64"
      ]
     },
     "execution_count": 75,
     "metadata": {},
     "output_type": "execute_result"
    }
   ],
   "source": [
    "previous_application['CNT_PAYMENT'].describe()"
   ]
  },
  {
   "cell_type": "code",
   "execution_count": 78,
   "id": "89681a89",
   "metadata": {},
   "outputs": [
    {
     "data": {
      "text/plain": [
       "16.0540815603274"
      ]
     },
     "execution_count": 78,
     "metadata": {},
     "output_type": "execute_result"
    }
   ],
   "source": [
    "previous_application['CNT_PAYMENT'].mean()"
   ]
  },
  {
   "cell_type": "code",
   "execution_count": 79,
   "id": "9beb5efc",
   "metadata": {},
   "outputs": [
    {
     "data": {
      "text/plain": [
       "12.0"
      ]
     },
     "execution_count": 79,
     "metadata": {},
     "output_type": "execute_result"
    }
   ],
   "source": [
    "previous_application['CNT_PAYMENT'].median()"
   ]
  },
  {
   "cell_type": "code",
   "execution_count": 80,
   "id": "2869985f",
   "metadata": {},
   "outputs": [],
   "source": [
    "previous_application['CNT_PAYMENT'] = previous_application['CNT_PAYMENT'].fillna(previous_application['CNT_PAYMENT'].mean())"
   ]
  },
  {
   "cell_type": "code",
   "execution_count": 81,
   "id": "d6531d82",
   "metadata": {},
   "outputs": [],
   "source": [
    "## Taking mean value due to non distributed data."
   ]
  },
  {
   "cell_type": "code",
   "execution_count": 83,
   "id": "f2ebfd65",
   "metadata": {},
   "outputs": [
    {
     "data": {
      "text/plain": [
       "0"
      ]
     },
     "execution_count": 83,
     "metadata": {},
     "output_type": "execute_result"
    }
   ],
   "source": [
    "previous_application['CNT_PAYMENT'].isnull().sum()"
   ]
  },
  {
   "cell_type": "code",
   "execution_count": 84,
   "id": "bbded4ee",
   "metadata": {},
   "outputs": [
    {
     "data": {
      "text/plain": [
       "<AxesSubplot:ylabel='Frequency'>"
      ]
     },
     "execution_count": 84,
     "metadata": {},
     "output_type": "execute_result"
    },
    {
     "data": {
      "image/png": "[encoded data removed]",
      "text/plain": [
       "<Figure size 640x480 with 1 Axes>"
      ]
     },
     "metadata": {},
     "output_type": "display_data"
    }
   ],
   "source": [
    "previous_application['CNT_PAYMENT'].plot.hist()"
   ]
  },
  {
   "cell_type": "code",
   "execution_count": 85,
   "id": "53179ecd",
   "metadata": {},
   "outputs": [
    {
     "data": {
      "text/plain": [
       "count    1.670214e+06\n",
       "mean     1.605408e+01\n",
       "std      1.284184e+01\n",
       "min      0.000000e+00\n",
       "25%      1.000000e+01\n",
       "50%      1.200000e+01\n",
       "75%      1.605408e+01\n",
       "max      8.400000e+01\n",
       "Name: CNT_PAYMENT, dtype: float64"
      ]
     },
     "execution_count": 85,
     "metadata": {},
     "output_type": "execute_result"
    }
   ],
   "source": [
    "previous_application['CNT_PAYMENT'].describe()"
   ]
  },
  {
   "cell_type": "code",
   "execution_count": 86,
   "id": "cc5796c1",
   "metadata": {},
   "outputs": [
    {
     "data": {
      "text/plain": [
       "SK_ID_PREV                          0\n",
       "SK_ID_CURR                          0\n",
       "NAME_CONTRACT_TYPE                  0\n",
       "AMT_ANNUITY                         0\n",
       "AMT_APPLICATION                     0\n",
       "AMT_CREDIT                          1\n",
       "AMT_GOODS_PRICE                     0\n",
       "WEEKDAY_APPR_PROCESS_START          0\n",
       "HOUR_APPR_PROCESS_START             0\n",
       "FLAG_LAST_APPL_PER_CONTRACT         0\n",
       "NFLAG_LAST_APPL_IN_DAY              0\n",
       "NAME_CASH_LOAN_PURPOSE              0\n",
       "NAME_CONTRACT_STATUS                0\n",
       "DAYS_DECISION                       0\n",
       "NAME_PAYMENT_TYPE                   0\n",
       "CODE_REJECT_REASON                  0\n",
       "NAME_TYPE_SUITE                     0\n",
       "NAME_CLIENT_TYPE                    0\n",
       "NAME_GOODS_CATEGORY                 0\n",
       "NAME_PORTFOLIO                      0\n",
       "NAME_PRODUCT_TYPE                   0\n",
       "CHANNEL_TYPE                        0\n",
       "SELLERPLACE_AREA                    0\n",
       "NAME_SELLER_INDUSTRY                0\n",
       "CNT_PAYMENT                         0\n",
       "NAME_YIELD_GROUP                    0\n",
       "PRODUCT_COMBINATION               346\n",
       "DAYS_FIRST_DRAWING             673065\n",
       "DAYS_FIRST_DUE                 673065\n",
       "DAYS_LAST_DUE_1ST_VERSION      673065\n",
       "DAYS_LAST_DUE                  673065\n",
       "DAYS_TERMINATION               673065\n",
       "NFLAG_INSURED_ON_APPROVAL      673065\n",
       "dtype: int64"
      ]
     },
     "execution_count": 86,
     "metadata": {},
     "output_type": "execute_result"
    }
   ],
   "source": [
    "previous_application.isnull().sum()"
   ]
  },
  {
   "cell_type": "code",
   "execution_count": 87,
   "id": "ab6a663b",
   "metadata": {},
   "outputs": [],
   "source": [
    "## Treating next column (PRODUCT_COMBINATION)"
   ]
  },
  {
   "cell_type": "code",
   "execution_count": 88,
   "id": "f244267a",
   "metadata": {},
   "outputs": [
    {
     "data": {
      "text/plain": [
       "346"
      ]
     },
     "execution_count": 88,
     "metadata": {},
     "output_type": "execute_result"
    }
   ],
   "source": [
    "previous_application['PRODUCT_COMBINATION'].isnull().sum()"
   ]
  },
  {
   "cell_type": "code",
   "execution_count": 89,
   "id": "a318553b",
   "metadata": {},
   "outputs": [
    {
     "data": {
      "text/plain": [
       "0    POS mobile with interest\n",
       "1            Cash X-Sell: low\n",
       "2           Cash X-Sell: high\n",
       "3         Cash X-Sell: middle\n",
       "4           Cash Street: high\n",
       "Name: PRODUCT_COMBINATION, dtype: object"
      ]
     },
     "execution_count": 89,
     "metadata": {},
     "output_type": "execute_result"
    }
   ],
   "source": [
    "previous_application['PRODUCT_COMBINATION'].head()"
   ]
  },
  {
   "cell_type": "code",
   "execution_count": 90,
   "id": "f2677c08",
   "metadata": {},
   "outputs": [],
   "source": [
    "previous_application['PRODUCT_COMBINATION'] = previous_application['PRODUCT_COMBINATION'].fillna('Cash')"
   ]
  },
  {
   "cell_type": "code",
   "execution_count": 92,
   "id": "c66dbc60",
   "metadata": {},
   "outputs": [
    {
     "data": {
      "text/plain": [
       "0"
      ]
     },
     "execution_count": 92,
     "metadata": {},
     "output_type": "execute_result"
    }
   ],
   "source": [
    "previous_application['PRODUCT_COMBINATION'].isnull().sum()"
   ]
  },
  {
   "cell_type": "code",
   "execution_count": 93,
   "id": "95aad9b2",
   "metadata": {},
   "outputs": [
    {
     "data": {
      "text/plain": [
       "SK_ID_PREV                          0\n",
       "SK_ID_CURR                          0\n",
       "NAME_CONTRACT_TYPE                  0\n",
       "AMT_ANNUITY                         0\n",
       "AMT_APPLICATION                     0\n",
       "AMT_CREDIT                          1\n",
       "AMT_GOODS_PRICE                     0\n",
       "WEEKDAY_APPR_PROCESS_START          0\n",
       "HOUR_APPR_PROCESS_START             0\n",
       "FLAG_LAST_APPL_PER_CONTRACT         0\n",
       "NFLAG_LAST_APPL_IN_DAY              0\n",
       "NAME_CASH_LOAN_PURPOSE              0\n",
       "NAME_CONTRACT_STATUS                0\n",
       "DAYS_DECISION                       0\n",
       "NAME_PAYMENT_TYPE                   0\n",
       "CODE_REJECT_REASON                  0\n",
       "NAME_TYPE_SUITE                     0\n",
       "NAME_CLIENT_TYPE                    0\n",
       "NAME_GOODS_CATEGORY                 0\n",
       "NAME_PORTFOLIO                      0\n",
       "NAME_PRODUCT_TYPE                   0\n",
       "CHANNEL_TYPE                        0\n",
       "SELLERPLACE_AREA                    0\n",
       "NAME_SELLER_INDUSTRY                0\n",
       "CNT_PAYMENT                         0\n",
       "NAME_YIELD_GROUP                    0\n",
       "PRODUCT_COMBINATION                 0\n",
       "DAYS_FIRST_DRAWING             673065\n",
       "DAYS_FIRST_DUE                 673065\n",
       "DAYS_LAST_DUE_1ST_VERSION      673065\n",
       "DAYS_LAST_DUE                  673065\n",
       "DAYS_TERMINATION               673065\n",
       "NFLAG_INSURED_ON_APPROVAL      673065\n",
       "dtype: int64"
      ]
     },
     "execution_count": 93,
     "metadata": {},
     "output_type": "execute_result"
    }
   ],
   "source": [
    "previous_application.isnull().sum()"
   ]
  },
  {
   "cell_type": "code",
   "execution_count": 94,
   "id": "8ab5e204",
   "metadata": {},
   "outputs": [],
   "source": [
    "## Treating next column(DAYS_FIRST_DRAWING)"
   ]
  },
  {
   "cell_type": "code",
   "execution_count": 95,
   "id": "6c02b072",
   "metadata": {},
   "outputs": [
    {
     "data": {
      "text/plain": [
       "673065"
      ]
     },
     "execution_count": 95,
     "metadata": {},
     "output_type": "execute_result"
    }
   ],
   "source": [
    "previous_application['DAYS_FIRST_DRAWING'].isnull().sum()"
   ]
  },
  {
   "cell_type": "code",
   "execution_count": 96,
   "id": "35d7fe80",
   "metadata": {},
   "outputs": [
    {
     "data": {
      "text/plain": [
       "0    365243.0\n",
       "1    365243.0\n",
       "2    365243.0\n",
       "3    365243.0\n",
       "4         NaN\n",
       "Name: DAYS_FIRST_DRAWING, dtype: float64"
      ]
     },
     "execution_count": 96,
     "metadata": {},
     "output_type": "execute_result"
    }
   ],
   "source": [
    "previous_application['DAYS_FIRST_DRAWING'].head()"
   ]
  },
  {
   "cell_type": "code",
   "execution_count": 97,
   "id": "c33ddf56",
   "metadata": {},
   "outputs": [
    {
     "data": {
      "text/plain": [
       "count    997149.000000\n",
       "mean     342209.855039\n",
       "std       88916.115834\n",
       "min       -2922.000000\n",
       "25%      365243.000000\n",
       "50%      365243.000000\n",
       "75%      365243.000000\n",
       "max      365243.000000\n",
       "Name: DAYS_FIRST_DRAWING, dtype: float64"
      ]
     },
     "execution_count": 97,
     "metadata": {},
     "output_type": "execute_result"
    }
   ],
   "source": [
    "previous_application['DAYS_FIRST_DRAWING'].describe()"
   ]
  },
  {
   "cell_type": "code",
   "execution_count": 99,
   "id": "401277a6",
   "metadata": {},
   "outputs": [
    {
     "data": {
      "text/plain": [
       " 365243.0    934444\n",
       "-228.0          123\n",
       "-224.0          121\n",
       "-212.0          121\n",
       "-223.0          119\n",
       "              ...  \n",
       "-1854.0           1\n",
       "-1990.0           1\n",
       "-1995.0           1\n",
       "-1687.0           1\n",
       "-1879.0           1\n",
       "Name: DAYS_FIRST_DRAWING, Length: 2838, dtype: int64"
      ]
     },
     "execution_count": 99,
     "metadata": {},
     "output_type": "execute_result"
    }
   ],
   "source": [
    "previous_application['DAYS_FIRST_DRAWING'].value_counts()"
   ]
  },
  {
   "cell_type": "code",
   "execution_count": 101,
   "id": "5dd7f2e3",
   "metadata": {},
   "outputs": [
    {
     "data": {
      "image/png": "[encoded data removed]",
      "text/plain": [
       "<Figure size 640x480 with 1 Axes>"
      ]
     },
     "metadata": {},
     "output_type": "display_data"
    }
   ],
   "source": [
    "previous_application['DAYS_FIRST_DRAWING'].plot.hist()\n",
    "plt.show()"
   ]
  },
  {
   "cell_type": "code",
   "execution_count": 102,
   "id": "a57f3c7d",
   "metadata": {},
   "outputs": [],
   "source": [
    "previous_application['DAYS_FIRST_DRAWING'] = previous_application['DAYS_FIRST_DRAWING'].fillna(previous_application['DAYS_FIRST_DRAWING']).median()"
   ]
  },
  {
   "cell_type": "code",
   "execution_count": 103,
   "id": "95d65a5c",
   "metadata": {},
   "outputs": [
    {
     "data": {
      "text/plain": [
       "0"
      ]
     },
     "execution_count": 103,
     "metadata": {},
     "output_type": "execute_result"
    }
   ],
   "source": [
    "previous_application['DAYS_FIRST_DRAWING'].isnull().sum()"
   ]
  },
  {
   "cell_type": "code",
   "execution_count": 105,
   "id": "94c3e8aa",
   "metadata": {},
   "outputs": [
    {
     "data": {
      "image/png": "[encoded data removed]",
      "text/plain": [
       "<Figure size 640x480 with 1 Axes>"
      ]
     },
     "metadata": {},
     "output_type": "display_data"
    }
   ],
   "source": [
    "previous_application['DAYS_FIRST_DRAWING'].plot.hist()\n",
    "plt.show()"
   ]
  },
  {
   "cell_type": "code",
   "execution_count": 106,
   "id": "234e4143",
   "metadata": {},
   "outputs": [
    {
     "data": {
      "text/plain": [
       "count    1670214.0\n",
       "mean      365243.0\n",
       "std            0.0\n",
       "min       365243.0\n",
       "25%       365243.0\n",
       "50%       365243.0\n",
       "75%       365243.0\n",
       "max       365243.0\n",
       "Name: DAYS_FIRST_DRAWING, dtype: float64"
      ]
     },
     "execution_count": 106,
     "metadata": {},
     "output_type": "execute_result"
    }
   ],
   "source": [
    "previous_application['DAYS_FIRST_DRAWING'].describe()"
   ]
  },
  {
   "cell_type": "code",
   "execution_count": 107,
   "id": "a31bf050",
   "metadata": {},
   "outputs": [
    {
     "data": {
      "text/plain": [
       "365243.0    1670214\n",
       "Name: DAYS_FIRST_DRAWING, dtype: int64"
      ]
     },
     "execution_count": 107,
     "metadata": {},
     "output_type": "execute_result"
    }
   ],
   "source": [
    "previous_application['DAYS_FIRST_DRAWING'].value_counts()"
   ]
  },
  {
   "cell_type": "code",
   "execution_count": 113,
   "id": "e45a9044",
   "metadata": {},
   "outputs": [
    {
     "data": {
      "text/plain": [
       "SK_ID_PREV                          0\n",
       "SK_ID_CURR                          0\n",
       "NAME_CONTRACT_TYPE                  0\n",
       "AMT_ANNUITY                         0\n",
       "AMT_APPLICATION                     0\n",
       "AMT_CREDIT                          1\n",
       "AMT_GOODS_PRICE                     0\n",
       "WEEKDAY_APPR_PROCESS_START          0\n",
       "HOUR_APPR_PROCESS_START             0\n",
       "FLAG_LAST_APPL_PER_CONTRACT         0\n",
       "NFLAG_LAST_APPL_IN_DAY              0\n",
       "NAME_CASH_LOAN_PURPOSE              0\n",
       "NAME_CONTRACT_STATUS                0\n",
       "DAYS_DECISION                       0\n",
       "NAME_PAYMENT_TYPE                   0\n",
       "CODE_REJECT_REASON                  0\n",
       "NAME_TYPE_SUITE                     0\n",
       "NAME_CLIENT_TYPE                    0\n",
       "NAME_GOODS_CATEGORY                 0\n",
       "NAME_PORTFOLIO                      0\n",
       "NAME_PRODUCT_TYPE                   0\n",
       "CHANNEL_TYPE                        0\n",
       "SELLERPLACE_AREA                    0\n",
       "NAME_SELLER_INDUSTRY                0\n",
       "CNT_PAYMENT                         0\n",
       "NAME_YIELD_GROUP                    0\n",
       "PRODUCT_COMBINATION                 0\n",
       "DAYS_FIRST_DRAWING                  0\n",
       "DAYS_FIRST_DUE                 673065\n",
       "DAYS_LAST_DUE_1ST_VERSION      673065\n",
       "DAYS_LAST_DUE                  673065\n",
       "DAYS_TERMINATION               673065\n",
       "NFLAG_INSURED_ON_APPROVAL      673065\n",
       "dtype: int64"
      ]
     },
     "execution_count": 113,
     "metadata": {},
     "output_type": "execute_result"
    }
   ],
   "source": [
    "previous_application.isnull().sum()"
   ]
  },
  {
   "cell_type": "code",
   "execution_count": 114,
   "id": "48c1f34e",
   "metadata": {},
   "outputs": [],
   "source": [
    "## Treating next column(DAYS_FIRST_DUE)"
   ]
  },
  {
   "cell_type": "code",
   "execution_count": 115,
   "id": "72cd1a85",
   "metadata": {},
   "outputs": [
    {
     "data": {
      "text/plain": [
       "673065"
      ]
     },
     "execution_count": 115,
     "metadata": {},
     "output_type": "execute_result"
    }
   ],
   "source": [
    "previous_application['DAYS_FIRST_DUE'].isnull().sum()"
   ]
  },
  {
   "cell_type": "code",
   "execution_count": 116,
   "id": "c6cc8b70",
   "metadata": {},
   "outputs": [
    {
     "data": {
      "text/plain": [
       "count    997149.000000\n",
       "mean      13826.269337\n",
       "std       72444.869708\n",
       "min       -2892.000000\n",
       "25%       -1628.000000\n",
       "50%        -831.000000\n",
       "75%        -411.000000\n",
       "max      365243.000000\n",
       "Name: DAYS_FIRST_DUE, dtype: float64"
      ]
     },
     "execution_count": 116,
     "metadata": {},
     "output_type": "execute_result"
    }
   ],
   "source": [
    "previous_application['DAYS_FIRST_DUE'].describe()"
   ]
  },
  {
   "cell_type": "code",
   "execution_count": 117,
   "id": "0f2ff3e0",
   "metadata": {},
   "outputs": [
    {
     "data": {
      "text/plain": [
       " 365243.0    40645\n",
       "-334.0         772\n",
       "-509.0         760\n",
       "-208.0         751\n",
       "-330.0         750\n",
       "             ...  \n",
       "-2889.0         86\n",
       "-2890.0         73\n",
       "-2891.0         55\n",
       "-2.0            14\n",
       "-2892.0          9\n",
       "Name: DAYS_FIRST_DUE, Length: 2892, dtype: int64"
      ]
     },
     "execution_count": 117,
     "metadata": {},
     "output_type": "execute_result"
    }
   ],
   "source": [
    "previous_application['DAYS_FIRST_DUE'].value_counts()"
   ]
  },
  {
   "cell_type": "code",
   "execution_count": 118,
   "id": "2976427a",
   "metadata": {},
   "outputs": [
    {
     "data": {
      "text/plain": [
       "<AxesSubplot:ylabel='Frequency'>"
      ]
     },
     "execution_count": 118,
     "metadata": {},
     "output_type": "execute_result"
    },
    {
     "data": {
      "image/png": "[encoded data removed]",
      "text/plain": [
       "<Figure size 640x480 with 1 Axes>"
      ]
     },
     "metadata": {},
     "output_type": "display_data"
    }
   ],
   "source": [
    "previous_application['DAYS_FIRST_DUE'].plot.hist()"
   ]
  },
  {
   "cell_type": "code",
   "execution_count": 120,
   "id": "e0646b7c",
   "metadata": {},
   "outputs": [],
   "source": [
    "previous_application['DAYS_FIRST_DUE'] = previous_application['DAYS_FIRST_DUE'].fillna(previous_application['DAYS_FIRST_DUE'].median())"
   ]
  },
  {
   "cell_type": "code",
   "execution_count": 123,
   "id": "3e347516",
   "metadata": {},
   "outputs": [
    {
     "data": {
      "text/plain": [
       "0"
      ]
     },
     "execution_count": 123,
     "metadata": {},
     "output_type": "execute_result"
    }
   ],
   "source": [
    "previous_application['DAYS_FIRST_DUE'].isnull().sum()"
   ]
  },
  {
   "cell_type": "code",
   "execution_count": 124,
   "id": "825143c2",
   "metadata": {},
   "outputs": [
    {
     "data": {
      "text/plain": [
       "<AxesSubplot:ylabel='Frequency'>"
      ]
     },
     "execution_count": 124,
     "metadata": {},
     "output_type": "execute_result"
    },
    {
     "data": {
      "image/png": "[encoded data removed]",
      "text/plain": [
       "<Figure size 640x480 with 1 Axes>"
      ]
     },
     "metadata": {},
     "output_type": "display_data"
    }
   ],
   "source": [
    "previous_application['DAYS_FIRST_DUE'].plot.hist()"
   ]
  },
  {
   "cell_type": "code",
   "execution_count": 128,
   "id": "59693117",
   "metadata": {},
   "outputs": [
    {
     "data": {
      "text/plain": [
       "SK_ID_PREV                          0\n",
       "SK_ID_CURR                          0\n",
       "NAME_CONTRACT_TYPE                  0\n",
       "AMT_ANNUITY                         0\n",
       "AMT_APPLICATION                     0\n",
       "AMT_CREDIT                          1\n",
       "AMT_GOODS_PRICE                     0\n",
       "WEEKDAY_APPR_PROCESS_START          0\n",
       "HOUR_APPR_PROCESS_START             0\n",
       "FLAG_LAST_APPL_PER_CONTRACT         0\n",
       "NFLAG_LAST_APPL_IN_DAY              0\n",
       "NAME_CASH_LOAN_PURPOSE              0\n",
       "NAME_CONTRACT_STATUS                0\n",
       "DAYS_DECISION                       0\n",
       "NAME_PAYMENT_TYPE                   0\n",
       "CODE_REJECT_REASON                  0\n",
       "NAME_TYPE_SUITE                     0\n",
       "NAME_CLIENT_TYPE                    0\n",
       "NAME_GOODS_CATEGORY                 0\n",
       "NAME_PORTFOLIO                      0\n",
       "NAME_PRODUCT_TYPE                   0\n",
       "CHANNEL_TYPE                        0\n",
       "SELLERPLACE_AREA                    0\n",
       "NAME_SELLER_INDUSTRY                0\n",
       "CNT_PAYMENT                         0\n",
       "NAME_YIELD_GROUP                    0\n",
       "PRODUCT_COMBINATION                 0\n",
       "DAYS_FIRST_DRAWING                  0\n",
       "DAYS_FIRST_DUE                      0\n",
       "DAYS_LAST_DUE_1ST_VERSION      673065\n",
       "DAYS_LAST_DUE                  673065\n",
       "DAYS_TERMINATION               673065\n",
       "NFLAG_INSURED_ON_APPROVAL      673065\n",
       "dtype: int64"
      ]
     },
     "execution_count": 128,
     "metadata": {},
     "output_type": "execute_result"
    }
   ],
   "source": [
    "previous_application.isnull().sum()"
   ]
  },
  {
   "cell_type": "code",
   "execution_count": 130,
   "id": "9c089ee1",
   "metadata": {},
   "outputs": [],
   "source": [
    "## Treating next column (DAYS_LAST_DUE_1ST_VERSION)"
   ]
  },
  {
   "cell_type": "code",
   "execution_count": 131,
   "id": "d4dff790",
   "metadata": {},
   "outputs": [
    {
     "data": {
      "text/plain": [
       "673065"
      ]
     },
     "execution_count": 131,
     "metadata": {},
     "output_type": "execute_result"
    }
   ],
   "source": [
    "previous_application['DAYS_LAST_DUE_1ST_VERSION'].isnull().sum()"
   ]
  },
  {
   "cell_type": "code",
   "execution_count": 134,
   "id": "7cc3a570",
   "metadata": {},
   "outputs": [
    {
     "data": {
      "text/plain": [
       "count    997149.000000\n",
       "mean      33767.774054\n",
       "std      106857.034789\n",
       "min       -2801.000000\n",
       "25%       -1242.000000\n",
       "50%        -361.000000\n",
       "75%         129.000000\n",
       "max      365243.000000\n",
       "Name: DAYS_LAST_DUE_1ST_VERSION, dtype: float64"
      ]
     },
     "execution_count": 134,
     "metadata": {},
     "output_type": "execute_result"
    }
   ],
   "source": [
    "previous_application['DAYS_LAST_DUE_1ST_VERSION'].describe()"
   ]
  },
  {
   "cell_type": "code",
   "execution_count": 135,
   "id": "c256e466",
   "metadata": {},
   "outputs": [
    {
     "data": {
      "text/plain": [
       "<AxesSubplot:ylabel='Frequency'>"
      ]
     },
     "execution_count": 135,
     "metadata": {},
     "output_type": "execute_result"
    },
    {
     "data": {
      "image/png": "[encoded data removed]",
      "text/plain": [
       "<Figure size 640x480 with 1 Axes>"
      ]
     },
     "metadata": {},
     "output_type": "display_data"
    }
   ],
   "source": [
    "previous_application['DAYS_LAST_DUE_1ST_VERSION'].plot.hist()"
   ]
  },
  {
   "cell_type": "code",
   "execution_count": 141,
   "id": "fe394708",
   "metadata": {},
   "outputs": [],
   "source": [
    "previous_application['DAYS_LAST_DUE_1ST_VERSION'] = previous_application['DAYS_LAST_DUE_1ST_VERSION'].fillna(previous_application['DAYS_LAST_DUE_1ST_VERSION'].median())"
   ]
  },
  {
   "cell_type": "code",
   "execution_count": 137,
   "id": "224a2c6f",
   "metadata": {},
   "outputs": [
    {
     "data": {
      "text/plain": [
       "0"
      ]
     },
     "execution_count": 137,
     "metadata": {},
     "output_type": "execute_result"
    }
   ],
   "source": [
    "previous_application['DAYS_LAST_DUE_1ST_VERSION'].isnull().sum()"
   ]
  },
  {
   "cell_type": "code",
   "execution_count": 142,
   "id": "390f476e",
   "metadata": {},
   "outputs": [
    {
     "data": {
      "image/png": "[encoded data removed]",
      "text/plain": [
       "<Figure size 640x480 with 1 Axes>"
      ]
     },
     "metadata": {},
     "output_type": "display_data"
    }
   ],
   "source": [
    "previous_application['DAYS_LAST_DUE_1ST_VERSION'].plot.hist()\n",
    "plt.show()"
   ]
  },
  {
   "cell_type": "code",
   "execution_count": 143,
   "id": "5c9654d0",
   "metadata": {},
   "outputs": [
    {
     "data": {
      "text/plain": [
       "count    1.670214e+06\n",
       "mean     3.376777e+04\n",
       "std      8.256519e+04\n",
       "min     -2.801000e+03\n",
       "25%     -5.800000e+02\n",
       "50%      4.310000e+02\n",
       "75%      3.376777e+04\n",
       "max      3.652430e+05\n",
       "Name: DAYS_LAST_DUE_1ST_VERSION, dtype: float64"
      ]
     },
     "execution_count": 143,
     "metadata": {},
     "output_type": "execute_result"
    }
   ],
   "source": [
    "previous_application['DAYS_LAST_DUE_1ST_VERSION'].describe()"
   ]
  },
  {
   "cell_type": "code",
   "execution_count": 144,
   "id": "1eccdbbb",
   "metadata": {},
   "outputs": [
    {
     "data": {
      "text/plain": [
       "SK_ID_PREV                          0\n",
       "SK_ID_CURR                          0\n",
       "NAME_CONTRACT_TYPE                  0\n",
       "AMT_ANNUITY                         0\n",
       "AMT_APPLICATION                     0\n",
       "AMT_CREDIT                          1\n",
       "AMT_GOODS_PRICE                     0\n",
       "WEEKDAY_APPR_PROCESS_START          0\n",
       "HOUR_APPR_PROCESS_START             0\n",
       "FLAG_LAST_APPL_PER_CONTRACT         0\n",
       "NFLAG_LAST_APPL_IN_DAY              0\n",
       "NAME_CASH_LOAN_PURPOSE              0\n",
       "NAME_CONTRACT_STATUS                0\n",
       "DAYS_DECISION                       0\n",
       "NAME_PAYMENT_TYPE                   0\n",
       "CODE_REJECT_REASON                  0\n",
       "NAME_TYPE_SUITE                     0\n",
       "NAME_CLIENT_TYPE                    0\n",
       "NAME_GOODS_CATEGORY                 0\n",
       "NAME_PORTFOLIO                      0\n",
       "NAME_PRODUCT_TYPE                   0\n",
       "CHANNEL_TYPE                        0\n",
       "SELLERPLACE_AREA                    0\n",
       "NAME_SELLER_INDUSTRY                0\n",
       "CNT_PAYMENT                         0\n",
       "NAME_YIELD_GROUP                    0\n",
       "PRODUCT_COMBINATION                 0\n",
       "DAYS_FIRST_DRAWING                  0\n",
       "DAYS_FIRST_DUE                      0\n",
       "DAYS_LAST_DUE_1ST_VERSION           0\n",
       "DAYS_LAST_DUE                  673065\n",
       "DAYS_TERMINATION               673065\n",
       "NFLAG_INSURED_ON_APPROVAL      673065\n",
       "dtype: int64"
      ]
     },
     "execution_count": 144,
     "metadata": {},
     "output_type": "execute_result"
    }
   ],
   "source": [
    "previous_application.isnull().sum()"
   ]
  },
  {
   "cell_type": "code",
   "execution_count": 145,
   "id": "539289b7",
   "metadata": {},
   "outputs": [],
   "source": [
    "## Treating Next column (DAYS_LAST_DUE)"
   ]
  },
  {
   "cell_type": "code",
   "execution_count": 146,
   "id": "d949292c",
   "metadata": {},
   "outputs": [
    {
     "data": {
      "text/plain": [
       "count    997149.000000\n",
       "mean      76582.403064\n",
       "std      149647.415123\n",
       "min       -2889.000000\n",
       "25%       -1314.000000\n",
       "50%        -537.000000\n",
       "75%         -74.000000\n",
       "max      365243.000000\n",
       "Name: DAYS_LAST_DUE, dtype: float64"
      ]
     },
     "execution_count": 146,
     "metadata": {},
     "output_type": "execute_result"
    }
   ],
   "source": [
    "previous_application['DAYS_LAST_DUE'].describe()"
   ]
  },
  {
   "cell_type": "code",
   "execution_count": 147,
   "id": "f8ab7b6e",
   "metadata": {},
   "outputs": [
    {
     "data": {
      "text/plain": [
       "673065"
      ]
     },
     "execution_count": 147,
     "metadata": {},
     "output_type": "execute_result"
    }
   ],
   "source": [
    "previous_application['DAYS_LAST_DUE'].isnull().sum()"
   ]
  },
  {
   "cell_type": "code",
   "execution_count": 148,
   "id": "62a41134",
   "metadata": {},
   "outputs": [
    {
     "data": {
      "text/plain": [
       "-537.0"
      ]
     },
     "execution_count": 148,
     "metadata": {},
     "output_type": "execute_result"
    }
   ],
   "source": [
    "previous_application['DAYS_LAST_DUE'].median()"
   ]
  },
  {
   "cell_type": "code",
   "execution_count": 149,
   "id": "7097bfcb",
   "metadata": {},
   "outputs": [
    {
     "data": {
      "text/plain": [
       "76582.40306413585"
      ]
     },
     "execution_count": 149,
     "metadata": {},
     "output_type": "execute_result"
    }
   ],
   "source": [
    "previous_application['DAYS_LAST_DUE'].mean()"
   ]
  },
  {
   "cell_type": "code",
   "execution_count": 151,
   "id": "893e35e9",
   "metadata": {},
   "outputs": [
    {
     "data": {
      "text/plain": [
       "<AxesSubplot:ylabel='Frequency'>"
      ]
     },
     "execution_count": 151,
     "metadata": {},
     "output_type": "execute_result"
    },
    {
     "data": {
      "image/png": "[encoded data removed]",
      "text/plain": [
       "<Figure size 640x480 with 1 Axes>"
      ]
     },
     "metadata": {},
     "output_type": "display_data"
    }
   ],
   "source": [
    "previous_application['DAYS_LAST_DUE'].plot.hist()"
   ]
  },
  {
   "cell_type": "code",
   "execution_count": 152,
   "id": "5153b097",
   "metadata": {},
   "outputs": [],
   "source": [
    "previous_application['DAYS_LAST_DUE'] = previous_application['DAYS_LAST_DUE'].fillna(previous_application['DAYS_LAST_DUE'].median())"
   ]
  },
  {
   "cell_type": "code",
   "execution_count": 153,
   "id": "e7fba7e6",
   "metadata": {},
   "outputs": [
    {
     "data": {
      "text/plain": [
       "0"
      ]
     },
     "execution_count": 153,
     "metadata": {},
     "output_type": "execute_result"
    }
   ],
   "source": [
    "previous_application['DAYS_LAST_DUE'].isnull().sum()"
   ]
  },
  {
   "cell_type": "code",
   "execution_count": 155,
   "id": "4e907093",
   "metadata": {},
   "outputs": [
    {
     "data": {
      "image/png": "[encoded data removed]",
      "text/plain": [
       "<Figure size 640x480 with 1 Axes>"
      ]
     },
     "metadata": {},
     "output_type": "display_data"
    }
   ],
   "source": [
    "previous_application['DAYS_LAST_DUE'].plot.hist()\n",
    "plt.show()"
   ]
  },
  {
   "cell_type": "code",
   "execution_count": 157,
   "id": "e9daf255",
   "metadata": {},
   "outputs": [
    {
     "data": {
      "text/plain": [
       "SK_ID_PREV                          0\n",
       "SK_ID_CURR                          0\n",
       "NAME_CONTRACT_TYPE                  0\n",
       "AMT_ANNUITY                         0\n",
       "AMT_APPLICATION                     0\n",
       "AMT_CREDIT                          1\n",
       "AMT_GOODS_PRICE                     0\n",
       "WEEKDAY_APPR_PROCESS_START          0\n",
       "HOUR_APPR_PROCESS_START             0\n",
       "FLAG_LAST_APPL_PER_CONTRACT         0\n",
       "NFLAG_LAST_APPL_IN_DAY              0\n",
       "NAME_CASH_LOAN_PURPOSE              0\n",
       "NAME_CONTRACT_STATUS                0\n",
       "DAYS_DECISION                       0\n",
       "NAME_PAYMENT_TYPE                   0\n",
       "CODE_REJECT_REASON                  0\n",
       "NAME_TYPE_SUITE                     0\n",
       "NAME_CLIENT_TYPE                    0\n",
       "NAME_GOODS_CATEGORY                 0\n",
       "NAME_PORTFOLIO                      0\n",
       "NAME_PRODUCT_TYPE                   0\n",
       "CHANNEL_TYPE                        0\n",
       "SELLERPLACE_AREA                    0\n",
       "NAME_SELLER_INDUSTRY                0\n",
       "CNT_PAYMENT                         0\n",
       "NAME_YIELD_GROUP                    0\n",
       "PRODUCT_COMBINATION                 0\n",
       "DAYS_FIRST_DRAWING                  0\n",
       "DAYS_FIRST_DUE                      0\n",
       "DAYS_LAST_DUE_1ST_VERSION           0\n",
       "DAYS_LAST_DUE                       0\n",
       "DAYS_TERMINATION               673065\n",
       "NFLAG_INSURED_ON_APPROVAL      673065\n",
       "dtype: int64"
      ]
     },
     "execution_count": 157,
     "metadata": {},
     "output_type": "execute_result"
    }
   ],
   "source": [
    "previous_application.isnull().sum()"
   ]
  },
  {
   "cell_type": "code",
   "execution_count": null,
   "id": "d8f0a8cf",
   "metadata": {},
   "outputs": [],
   "source": [
    "## Treating next column(DAYS_TERMINATION)"
   ]
  },
  {
   "cell_type": "code",
   "execution_count": 158,
   "id": "0d765671",
   "metadata": {},
   "outputs": [
    {
     "data": {
      "text/plain": [
       "673065"
      ]
     },
     "execution_count": 158,
     "metadata": {},
     "output_type": "execute_result"
    }
   ],
   "source": [
    "previous_application['DAYS_TERMINATION'].isnull().sum()"
   ]
  },
  {
   "cell_type": "code",
   "execution_count": 159,
   "id": "3c474192",
   "metadata": {},
   "outputs": [
    {
     "data": {
      "text/plain": [
       "count    997149.000000\n",
       "mean      81992.343838\n",
       "std      153303.516729\n",
       "min       -2874.000000\n",
       "25%       -1270.000000\n",
       "50%        -499.000000\n",
       "75%         -44.000000\n",
       "max      365243.000000\n",
       "Name: DAYS_TERMINATION, dtype: float64"
      ]
     },
     "execution_count": 159,
     "metadata": {},
     "output_type": "execute_result"
    }
   ],
   "source": [
    "previous_application['DAYS_TERMINATION'].describe()"
   ]
  },
  {
   "cell_type": "code",
   "execution_count": 161,
   "id": "81d503a4",
   "metadata": {},
   "outputs": [
    {
     "data": {
      "image/png": "[encoded data removed]",
      "text/plain": [
       "<Figure size 640x480 with 1 Axes>"
      ]
     },
     "metadata": {},
     "output_type": "display_data"
    }
   ],
   "source": [
    "previous_application['DAYS_TERMINATION'].plot.hist()\n",
    "plt.show()"
   ]
  },
  {
   "cell_type": "code",
   "execution_count": 162,
   "id": "0ada52dd",
   "metadata": {},
   "outputs": [],
   "source": [
    "previous_application['DAYS_TERMINATION'] = previous_application['DAYS_TERMINATION'].fillna(previous_application['DAYS_TERMINATION'].isnull().median())"
   ]
  },
  {
   "cell_type": "code",
   "execution_count": 163,
   "id": "12ab202a",
   "metadata": {},
   "outputs": [
    {
     "data": {
      "text/plain": [
       "0"
      ]
     },
     "execution_count": 163,
     "metadata": {},
     "output_type": "execute_result"
    }
   ],
   "source": [
    "previous_application['DAYS_TERMINATION'].isnull().sum()"
   ]
  },
  {
   "cell_type": "code",
   "execution_count": 165,
   "id": "a2858941",
   "metadata": {},
   "outputs": [
    {
     "data": {
      "image/png": "[encoded data removed]",
      "text/plain": [
       "<Figure size 640x480 with 1 Axes>"
      ]
     },
     "metadata": {},
     "output_type": "display_data"
    }
   ],
   "source": [
    "previous_application['DAYS_TERMINATION'].plot.hist()\n",
    "plt.show()"
   ]
  },
  {
   "cell_type": "code",
   "execution_count": 166,
   "id": "8fb4e250",
   "metadata": {},
   "outputs": [
    {
     "data": {
      "text/plain": [
       "SK_ID_PREV                          0\n",
       "SK_ID_CURR                          0\n",
       "NAME_CONTRACT_TYPE                  0\n",
       "AMT_ANNUITY                         0\n",
       "AMT_APPLICATION                     0\n",
       "AMT_CREDIT                          1\n",
       "AMT_GOODS_PRICE                     0\n",
       "WEEKDAY_APPR_PROCESS_START          0\n",
       "HOUR_APPR_PROCESS_START             0\n",
       "FLAG_LAST_APPL_PER_CONTRACT         0\n",
       "NFLAG_LAST_APPL_IN_DAY              0\n",
       "NAME_CASH_LOAN_PURPOSE              0\n",
       "NAME_CONTRACT_STATUS                0\n",
       "DAYS_DECISION                       0\n",
       "NAME_PAYMENT_TYPE                   0\n",
       "CODE_REJECT_REASON                  0\n",
       "NAME_TYPE_SUITE                     0\n",
       "NAME_CLIENT_TYPE                    0\n",
       "NAME_GOODS_CATEGORY                 0\n",
       "NAME_PORTFOLIO                      0\n",
       "NAME_PRODUCT_TYPE                   0\n",
       "CHANNEL_TYPE                        0\n",
       "SELLERPLACE_AREA                    0\n",
       "NAME_SELLER_INDUSTRY                0\n",
       "CNT_PAYMENT                         0\n",
       "NAME_YIELD_GROUP                    0\n",
       "PRODUCT_COMBINATION                 0\n",
       "DAYS_FIRST_DRAWING                  0\n",
       "DAYS_FIRST_DUE                      0\n",
       "DAYS_LAST_DUE_1ST_VERSION           0\n",
       "DAYS_LAST_DUE                       0\n",
       "DAYS_TERMINATION                    0\n",
       "NFLAG_INSURED_ON_APPROVAL      673065\n",
       "dtype: int64"
      ]
     },
     "execution_count": 166,
     "metadata": {},
     "output_type": "execute_result"
    }
   ],
   "source": [
    "previous_application.isnull().sum()"
   ]
  },
  {
   "cell_type": "code",
   "execution_count": 167,
   "id": "2b1af3a8",
   "metadata": {},
   "outputs": [],
   "source": [
    "## Treating next column (NFLAG_INSURED_ON_APPROVAL)"
   ]
  },
  {
   "cell_type": "code",
   "execution_count": 168,
   "id": "05475349",
   "metadata": {},
   "outputs": [
    {
     "data": {
      "text/plain": [
       "673065"
      ]
     },
     "execution_count": 168,
     "metadata": {},
     "output_type": "execute_result"
    }
   ],
   "source": [
    "previous_application['NFLAG_INSURED_ON_APPROVAL'].isnull().sum()"
   ]
  },
  {
   "cell_type": "code",
   "execution_count": 169,
   "id": "45ae2e7c",
   "metadata": {},
   "outputs": [
    {
     "data": {
      "text/plain": [
       "0    0.0\n",
       "1    1.0\n",
       "2    1.0\n",
       "3    1.0\n",
       "4    NaN\n",
       "Name: NFLAG_INSURED_ON_APPROVAL, dtype: float64"
      ]
     },
     "execution_count": 169,
     "metadata": {},
     "output_type": "execute_result"
    }
   ],
   "source": [
    "previous_application['NFLAG_INSURED_ON_APPROVAL'].head()"
   ]
  },
  {
   "cell_type": "code",
   "execution_count": 170,
   "id": "518f7a11",
   "metadata": {},
   "outputs": [
    {
     "data": {
      "text/plain": [
       "<AxesSubplot:ylabel='Frequency'>"
      ]
     },
     "execution_count": 170,
     "metadata": {},
     "output_type": "execute_result"
    },
    {
     "data": {
      "image/png": "[encoded data removed]",
      "text/plain": [
       "<Figure size 640x480 with 1 Axes>"
      ]
     },
     "metadata": {},
     "output_type": "display_data"
    }
   ],
   "source": [
    "previous_application['NFLAG_INSURED_ON_APPROVAL'].plot.hist()"
   ]
  },
  {
   "cell_type": "code",
   "execution_count": 171,
   "id": "2cd2aa1e",
   "metadata": {},
   "outputs": [],
   "source": [
    "previous_application['NFLAG_INSURED_ON_APPROVAL'] = previous_application['NFLAG_INSURED_ON_APPROVAL'].fillna(previous_application['NFLAG_INSURED_ON_APPROVAL'].median())"
   ]
  },
  {
   "cell_type": "code",
   "execution_count": 172,
   "id": "feec1997",
   "metadata": {},
   "outputs": [
    {
     "data": {
      "text/plain": [
       "0"
      ]
     },
     "execution_count": 172,
     "metadata": {},
     "output_type": "execute_result"
    }
   ],
   "source": [
    "previous_application['NFLAG_INSURED_ON_APPROVAL'].isnull().sum()"
   ]
  },
  {
   "cell_type": "code",
   "execution_count": 174,
   "id": "21862435",
   "metadata": {},
   "outputs": [
    {
     "data": {
      "image/png": "[encoded data removed]",
      "text/plain": [
       "<Figure size 640x480 with 1 Axes>"
      ]
     },
     "metadata": {},
     "output_type": "display_data"
    }
   ],
   "source": [
    "previous_application['NFLAG_INSURED_ON_APPROVAL'].plot.hist()\n",
    "plt.show()"
   ]
  },
  {
   "cell_type": "code",
   "execution_count": 175,
   "id": "8d3f1f26",
   "metadata": {},
   "outputs": [
    {
     "data": {
      "text/plain": [
       "SK_ID_PREV                     0\n",
       "SK_ID_CURR                     0\n",
       "NAME_CONTRACT_TYPE             0\n",
       "AMT_ANNUITY                    0\n",
       "AMT_APPLICATION                0\n",
       "AMT_CREDIT                     1\n",
       "AMT_GOODS_PRICE                0\n",
       "WEEKDAY_APPR_PROCESS_START     0\n",
       "HOUR_APPR_PROCESS_START        0\n",
       "FLAG_LAST_APPL_PER_CONTRACT    0\n",
       "NFLAG_LAST_APPL_IN_DAY         0\n",
       "NAME_CASH_LOAN_PURPOSE         0\n",
       "NAME_CONTRACT_STATUS           0\n",
       "DAYS_DECISION                  0\n",
       "NAME_PAYMENT_TYPE              0\n",
       "CODE_REJECT_REASON             0\n",
       "NAME_TYPE_SUITE                0\n",
       "NAME_CLIENT_TYPE               0\n",
       "NAME_GOODS_CATEGORY            0\n",
       "NAME_PORTFOLIO                 0\n",
       "NAME_PRODUCT_TYPE              0\n",
       "CHANNEL_TYPE                   0\n",
       "SELLERPLACE_AREA               0\n",
       "NAME_SELLER_INDUSTRY           0\n",
       "CNT_PAYMENT                    0\n",
       "NAME_YIELD_GROUP               0\n",
       "PRODUCT_COMBINATION            0\n",
       "DAYS_FIRST_DRAWING             0\n",
       "DAYS_FIRST_DUE                 0\n",
       "DAYS_LAST_DUE_1ST_VERSION      0\n",
       "DAYS_LAST_DUE                  0\n",
       "DAYS_TERMINATION               0\n",
       "NFLAG_INSURED_ON_APPROVAL      0\n",
       "dtype: int64"
      ]
     },
     "execution_count": 175,
     "metadata": {},
     "output_type": "execute_result"
    }
   ],
   "source": [
    "previous_application.isnull().sum()"
   ]
  },
  {
   "cell_type": "code",
   "execution_count": 176,
   "id": "86dbfc2a",
   "metadata": {},
   "outputs": [],
   "source": [
    "## Treating next column(AMT_CREDIT)"
   ]
  },
  {
   "cell_type": "code",
   "execution_count": 177,
   "id": "5fe1348a",
   "metadata": {},
   "outputs": [
    {
     "data": {
      "text/plain": [
       "1"
      ]
     },
     "execution_count": 177,
     "metadata": {},
     "output_type": "execute_result"
    }
   ],
   "source": [
    "previous_application['AMT_CREDIT'].isnull().sum()\n"
   ]
  },
  {
   "cell_type": "code",
   "execution_count": 179,
   "id": "0654abb9",
   "metadata": {},
   "outputs": [
    {
     "data": {
      "image/png": "[encoded data removed]",
      "text/plain": [
       "<Figure size 640x480 with 1 Axes>"
      ]
     },
     "metadata": {},
     "output_type": "display_data"
    }
   ],
   "source": [
    "previous_application['AMT_CREDIT'].plot.hist()\n",
    "plt.show()"
   ]
  },
  {
   "cell_type": "code",
   "execution_count": 180,
   "id": "f2e9eee7",
   "metadata": {},
   "outputs": [],
   "source": [
    "previous_application['AMT_CREDIT'] = previous_application['AMT_CREDIT'].fillna(previous_application['AMT_CREDIT'].median())\n"
   ]
  },
  {
   "cell_type": "code",
   "execution_count": 181,
   "id": "bfef66e3",
   "metadata": {},
   "outputs": [
    {
     "data": {
      "text/plain": [
       "0"
      ]
     },
     "execution_count": 181,
     "metadata": {},
     "output_type": "execute_result"
    }
   ],
   "source": [
    "previous_application['AMT_CREDIT'].isnull().sum()\n"
   ]
  },
  {
   "cell_type": "code",
   "execution_count": 183,
   "id": "4a386613",
   "metadata": {},
   "outputs": [
    {
     "data": {
      "image/png": "[encoded data removed]",
      "text/plain": [
       "<Figure size 640x480 with 1 Axes>"
      ]
     },
     "metadata": {},
     "output_type": "display_data"
    }
   ],
   "source": [
    "previous_application['AMT_CREDIT'].plot.hist()\n",
    "plt.show()"
   ]
  },
  {
   "cell_type": "code",
   "execution_count": 184,
   "id": "0638c0b8",
   "metadata": {},
   "outputs": [
    {
     "data": {
      "text/plain": [
       "SK_ID_PREV                     0\n",
       "SK_ID_CURR                     0\n",
       "NAME_CONTRACT_TYPE             0\n",
       "AMT_ANNUITY                    0\n",
       "AMT_APPLICATION                0\n",
       "AMT_CREDIT                     0\n",
       "AMT_GOODS_PRICE                0\n",
       "WEEKDAY_APPR_PROCESS_START     0\n",
       "HOUR_APPR_PROCESS_START        0\n",
       "FLAG_LAST_APPL_PER_CONTRACT    0\n",
       "NFLAG_LAST_APPL_IN_DAY         0\n",
       "NAME_CASH_LOAN_PURPOSE         0\n",
       "NAME_CONTRACT_STATUS           0\n",
       "DAYS_DECISION                  0\n",
       "NAME_PAYMENT_TYPE              0\n",
       "CODE_REJECT_REASON             0\n",
       "NAME_TYPE_SUITE                0\n",
       "NAME_CLIENT_TYPE               0\n",
       "NAME_GOODS_CATEGORY            0\n",
       "NAME_PORTFOLIO                 0\n",
       "NAME_PRODUCT_TYPE              0\n",
       "CHANNEL_TYPE                   0\n",
       "SELLERPLACE_AREA               0\n",
       "NAME_SELLER_INDUSTRY           0\n",
       "CNT_PAYMENT                    0\n",
       "NAME_YIELD_GROUP               0\n",
       "PRODUCT_COMBINATION            0\n",
       "DAYS_FIRST_DRAWING             0\n",
       "DAYS_FIRST_DUE                 0\n",
       "DAYS_LAST_DUE_1ST_VERSION      0\n",
       "DAYS_LAST_DUE                  0\n",
       "DAYS_TERMINATION               0\n",
       "NFLAG_INSURED_ON_APPROVAL      0\n",
       "dtype: int64"
      ]
     },
     "execution_count": 184,
     "metadata": {},
     "output_type": "execute_result"
    }
   ],
   "source": [
    "previous_application.isnull().sum()"
   ]
  },
  {
   "cell_type": "code",
   "execution_count": null,
   "id": "356bcf54",
   "metadata": {},
   "outputs": [],
   "source": [
    "## All columns treated successfully \n",
    "## Now there is no missing value in any column.\n",
    "## Also is this given data no such outliers found due to continuous data in this dataset."
   ]
  },
  {
   "cell_type": "code",
   "execution_count": null,
   "id": "99badf2b",
   "metadata": {},
   "outputs": [],
   "source": []
  },
  {
   "cell_type": "code",
   "execution_count": null,
   "id": "3dbf886a",
   "metadata": {},
   "outputs": [],
   "source": [
    "application_data = application_data.drop(['COMMONAREA_MEDI','COMMONAREA_AVG','COMMONAREA_MODE','NONLIVINGAPARTMENTS_MODE','NONLIVINGAPARTMENTS_AVG','NONLIVINGAPARTMENTS_MEDI','FONDKAPREMONT_MODE','LIVINGAPARTMENTS_MODE','LIVINGAPARTMENTS_AVG','LIVINGAPARTMENTS_MEDI','FLOORSMIN_AVG','FLOORSMIN_MODE','FLOORSMIN_MEDI','YEARS_BUILD_MEDI','YEARS_BUILD_MODE','YEARS_BUILD_AVG','OWN_CAR_AGE','LANDAREA_MEDI','LANDAREA_MODE','LANDAREA_AVG','BASEMENTAREA_MEDI','BASEMENTAREA_AVG','BASEMENTAREA_MODE','EXT_SOURCE_1','NONLIVINGAREA_MODE','NONLIVINGAREA_AVG','NONLIVINGAREA_MEDI','ELEVATORS_MEDI','ELEVATORS_AVG','ELEVATORS_MODE','WALLSMATERIAL_MODE','APARTMENTS_MEDI','APARTMENTS_AVG','APARTMENTS_MODE','ENTRANCES_MEDI','ENTRANCES_AVG','ENTRANCES_MODE','LIVINGAREA_AVG','LIVINGAREA_MODE','LIVINGAREA_MEDI','HOUSETYPE_MODE'])"
   ]
  },
  {
   "cell_type": "code",
   "execution_count": null,
   "id": "1c6d5b30",
   "metadata": {},
   "outputs": [],
   "source": []
  },
  {
   "cell_type": "code",
   "execution_count": null,
   "id": "cede429d",
   "metadata": {},
   "outputs": [],
   "source": []
  },
  {
   "cell_type": "code",
   "execution_count": null,
   "id": "2106f9da",
   "metadata": {},
   "outputs": [],
   "source": []
  },
  {
   "cell_type": "code",
   "execution_count": null,
   "id": "97413ee8",
   "metadata": {},
   "outputs": [],
   "source": []
  },
  {
   "cell_type": "code",
   "execution_count": 29,
   "id": "cce798c1",
   "metadata": {},
   "outputs": [],
   "source": []
  },
  {
   "cell_type": "code",
   "execution_count": 5,
   "id": "b0232dcd",
   "metadata": {},
   "outputs": [],
   "source": []
  },
  {
   "cell_type": "code",
   "execution_count": null,
   "id": "2ca8476e",
   "metadata": {},
   "outputs": [],
   "source": []
  },
  {
   "cell_type": "code",
   "execution_count": null,
   "id": "5842fc78",
   "metadata": {},
   "outputs": [],
   "source": []
  },
  {
   "cell_type": "code",
   "execution_count": null,
   "id": "79fb2847",
   "metadata": {},
   "outputs": [],
   "source": []
  },
  {
   "cell_type": "code",
   "execution_count": null,
   "id": "ec1f81ce",
   "metadata": {},
   "outputs": [],
   "source": []
  },
  {
   "cell_type": "code",
   "execution_count": null,
   "id": "7f8b056e",
   "metadata": {},
   "outputs": [],
   "source": []
  },
  {
   "cell_type": "code",
   "execution_count": null,
   "id": "a741178a",
   "metadata": {},
   "outputs": [],
   "source": [
    "\n"
   ]
  },
  {
   "cell_type": "code",
   "execution_count": null,
   "id": "81b32bdb",
   "metadata": {},
   "outputs": [],
   "source": []
  },
  {
   "cell_type": "code",
   "execution_count": null,
   "id": "99e86400",
   "metadata": {},
   "outputs": [],
   "source": []
  },
  {
   "cell_type": "code",
   "execution_count": null,
   "id": "b4fb0dd1",
   "metadata": {},
   "outputs": [],
   "source": []
  },
  {
   "cell_type": "code",
   "execution_count": null,
   "id": "3b5e93e8",
   "metadata": {},
   "outputs": [],
   "source": []
  },
  {
   "cell_type": "code",
   "execution_count": null,
   "id": "9cd1811b",
   "metadata": {},
   "outputs": [],
   "source": []
  },
  {
   "cell_type": "code",
   "execution_count": null,
   "id": "241495e0",
   "metadata": {},
   "outputs": [],
   "source": []
  },
  {
   "cell_type": "code",
   "execution_count": null,
   "id": "2e7e60fa",
   "metadata": {},
   "outputs": [],
   "source": []
  },
  {
   "cell_type": "code",
   "execution_count": null,
   "id": "0072a71e",
   "metadata": {},
   "outputs": [],
   "source": []
  },
  {
   "cell_type": "code",
   "execution_count": null,
   "id": "3f68c273",
   "metadata": {},
   "outputs": [],
   "source": []
  },
  {
   "cell_type": "code",
   "execution_count": null,
   "id": "a5da4505",
   "metadata": {},
   "outputs": [],
   "source": []
  },
  {
   "cell_type": "code",
   "execution_count": 6,
   "id": "09907a49",
   "metadata": {},
   "outputs": [],
   "source": []
  },
  {
   "cell_type": "code",
   "execution_count": null,
   "id": "249eb7c4",
   "metadata": {},
   "outputs": [],
   "source": []
  },
  {
   "cell_type": "code",
   "execution_count": null,
   "id": "69f6b309",
   "metadata": {},
   "outputs": [],
   "source": []
  },
  {
   "cell_type": "code",
   "execution_count": null,
   "id": "8877e06f",
   "metadata": {},
   "outputs": [],
   "source": []
  },
  {
   "cell_type": "code",
   "execution_count": null,
   "id": "91f26a44",
   "metadata": {},
   "outputs": [],
   "source": []
  },
  {
   "cell_type": "code",
   "execution_count": null,
   "id": "4026df23",
   "metadata": {},
   "outputs": [],
   "source": []
  },
  {
   "cell_type": "code",
   "execution_count": null,
   "id": "f0c677e8",
   "metadata": {},
   "outputs": [],
   "source": []
  },
  {
   "cell_type": "code",
   "execution_count": null,
   "id": "80cb34a7",
   "metadata": {},
   "outputs": [],
   "source": []
  },
  {
   "cell_type": "code",
   "execution_count": null,
   "id": "59384c3e",
   "metadata": {},
   "outputs": [],
   "source": []
  },
  {
   "cell_type": "code",
   "execution_count": null,
   "id": "fbc7147c",
   "metadata": {},
   "outputs": [],
   "source": []
  },
  {
   "cell_type": "code",
   "execution_count": null,
   "id": "21955bb7",
   "metadata": {},
   "outputs": [],
   "source": []
  },
  {
   "cell_type": "code",
   "execution_count": null,
   "id": "e58f1410",
   "metadata": {},
   "outputs": [],
   "source": []
  },
  {
   "cell_type": "code",
   "execution_count": null,
   "id": "6151c12d",
   "metadata": {},
   "outputs": [],
   "source": []
  },
  {
   "cell_type": "code",
   "execution_count": null,
   "id": "639bee22",
   "metadata": {},
   "outputs": [],
   "source": []
  },
  {
   "cell_type": "code",
   "execution_count": null,
   "id": "f8c1b46b",
   "metadata": {},
   "outputs": [],
   "source": []
  },
  {
   "cell_type": "code",
   "execution_count": null,
   "id": "fecb6564",
   "metadata": {},
   "outputs": [],
   "source": []
  },
  {
   "cell_type": "code",
   "execution_count": null,
   "id": "a09cd0d6",
   "metadata": {},
   "outputs": [],
   "source": [
    "\n"
   ]
  },
  {
   "cell_type": "code",
   "execution_count": null,
   "id": "cfc1178a",
   "metadata": {},
   "outputs": [],
   "source": []
  },
  {
   "cell_type": "code",
   "execution_count": null,
   "id": "a259e813",
   "metadata": {},
   "outputs": [],
   "source": []
  },
  {
   "cell_type": "code",
   "execution_count": null,
   "id": "421dd492",
   "metadata": {},
   "outputs": [],
   "source": []
  }
 ],
 "metadata": {
  "kernelspec": {
   "display_name": "Python 3 (ipykernel)",
   "language": "python",
   "name": "python3"
  },
  "language_info": {
   "codemirror_mode": {
    "name": "ipython",
    "version": 3
   },
   "file_extension": ".py",
   "mimetype": "text/x-python",
   "name": "python",
   "nbconvert_exporter": "python",
   "pygments_lexer": "ipython3",
   "version": "3.9.13"
  }
 },
 "nbformat": 4,
 "nbformat_minor": 5
}
